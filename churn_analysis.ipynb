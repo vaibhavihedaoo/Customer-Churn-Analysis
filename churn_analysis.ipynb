{
  "nbformat": 4,
  "nbformat_minor": 0,
  "metadata": {
    "colab": {
      "provenance": []
    },
    "kernelspec": {
      "name": "python3",
      "display_name": "Python 3"
    },
    "language_info": {
      "name": "python"
    }
  },
  "cells": [
    {
      "cell_type": "code",
      "source": [
        "!pip install pyspark"
      ],
      "metadata": {
        "colab": {
          "base_uri": "https://localhost:8080/"
        },
        "id": "I5-afSslzZVv",
        "outputId": "32b59d77-78c6-4772-fd38-27b9603bac29"
      },
      "execution_count": null,
      "outputs": [
        {
          "output_type": "stream",
          "name": "stdout",
          "text": [
            "Requirement already satisfied: pyspark in /usr/local/lib/python3.10/dist-packages (3.5.1)\n",
            "Requirement already satisfied: py4j==0.10.9.7 in /usr/local/lib/python3.10/dist-packages (from pyspark) (0.10.9.7)\n"
          ]
        }
      ]
    },
    {
      "cell_type": "code",
      "source": [
        "#Installing the necessary libraries\n",
        "!apt-get install openjdk-11-jdk-headless -qq > /dev/null\n",
        "!wget -q https://bitbucket.org/habedi/datasets/raw/b6769c4664e7ff68b001e2f43bc517888cbe3642/spark/spark-3.0.2-bin-hadoop2.7.tgz\n",
        "!tar xf spark-3.0.2-bin-hadoop2.7.tgz\n",
        "!rm -rf spark-3.0.2-bin-hadoop2.7.tgz*\n",
        "!pip -q install findspark pyspark graphframes\n"
      ],
      "metadata": {
        "id": "YbAiigguHarS"
      },
      "execution_count": null,
      "outputs": []
    },
    {
      "cell_type": "code",
      "source": [
        "#Initializing the environment\n",
        "import os\n",
        "os.environ[\"PYSPARK_DRIVER_PYTHON\"] = \"jupyter\"\n",
        "os.environ[\"PYSPARK_DRIVER_PYTHON_OPTS\"] = \"notebook\"\n",
        "os.environ[\"PYSPARK_SUBMIT_ARGS\"] = \"--packages graphframes:graphframes:0.8.1-spark3.0-s_2.12 pyspark-shell\""
      ],
      "metadata": {
        "id": "s_LKpI0oHelJ"
      },
      "execution_count": null,
      "outputs": []
    },
    {
      "cell_type": "code",
      "source": [
        "from graphframes import *\n",
        "from pyspark import *\n",
        "from pyspark.sql import *"
      ],
      "metadata": {
        "id": "xZg9KqYaHki2"
      },
      "execution_count": null,
      "outputs": []
    },
    {
      "cell_type": "code",
      "execution_count": null,
      "metadata": {
        "id": "rrSgGruHzBgR"
      },
      "outputs": [],
      "source": [
        "from pyspark.sql import SparkSession\n",
        "from pyspark.sql.functions import col\n",
        "from pyspark.ml import Pipeline\n",
        "from pyspark.ml.classification import RandomForestClassifier\n",
        "from pyspark.ml.feature import StringIndexer, OneHotEncoder, VectorAssembler\n",
        "from pyspark.ml.evaluation import BinaryClassificationEvaluator"
      ]
    },
    {
      "cell_type": "code",
      "source": [
        "spark = SparkSession.builder.appName(\"Churn Prediction\").config(\"spark.jars.packages\", \"graphframes:graphframes:0.8.1-spark3.0-s_2.12\").getOrCreate()"
      ],
      "metadata": {
        "id": "kSNVhOFhz0-O"
      },
      "execution_count": null,
      "outputs": []
    },
    {
      "cell_type": "code",
      "source": [
        "churn_status_df = spark.read.csv(\"/content/Telco_customer_churn_status.csv\", header=True, inferSchema=True)\n",
        "churn_df = spark.read.csv(\"/content/Telco_customer_churn.csv\", header=True, inferSchema=True)"
      ],
      "metadata": {
        "id": "NSB6-OEn1ixZ"
      },
      "execution_count": null,
      "outputs": []
    },
    {
      "cell_type": "code",
      "source": [
        "# Rename overlapping columns in `churn_status_df` to prevent duplicates\n",
        "columns_to_rename = {\n",
        "    \"Customer ID\": \"CustomerID_Status\",\n",
        "    \"Count\": \"Count_Status\",\n",
        "    \"Churn Label\": \"ChurnLabel_Status\",\n",
        "    \"Churn Value\": \"ChurnValue_Status\",\n",
        "    \"Churn Score\": \"ChurnScore_Status\",\n",
        "    \"CLTV\": \"CLTV_Status\",\n",
        "    \"Churn Reason\": \"ChurnReason_Status\"\n",
        "}\n",
        "\n",
        "for original_col, new_col in columns_to_rename.items():\n",
        "    churn_status_df = churn_status_df.withColumnRenamed(original_col, new_col)\n",
        "\n",
        "# Now perform the join on the CustomerID\n",
        "# Since `CustomerID` in churn_df and `CustomerID_Status` in churn_status_df represent the same data, we use these for the join condition\n",
        "combined_df = churn_df.join(churn_status_df, churn_df.CustomerID == churn_status_df.CustomerID_Status, \"inner\")\n",
        "\n",
        "# Optionally, drop the `CustomerID_Status` column if it's no longer needed, along with any other renamed duplicates you don't need\n",
        "columns_to_drop = ['Count_Status', 'ChurnLabel_Status', 'ChurnValue_Status', 'ChurnScore_Status', 'CLTV_Status', 'ChurnReason_Status','CustomerID_Status']\n",
        "final_df = combined_df.drop(*columns_to_drop)\n",
        "# combined_df = combined_df.drop(*columns_to_drop)\n",
        "\n",
        "# Show the result to verify the structure\n",
        "final_df.show()\n"
      ],
      "metadata": {
        "id": "hBnEqz-X9kO9",
        "colab": {
          "base_uri": "https://localhost:8080/"
        },
        "outputId": "c4726931-046b-4112-866c-85e3951ce725"
      },
      "execution_count": null,
      "outputs": [
        {
          "output_type": "stream",
          "name": "stdout",
          "text": [
            "+----------+-----+-------------+----------+---------------+--------+--------------------+---------+-----------+------+--------------+-------+----------+-------------+-------------+----------------+----------------+-------------------+-------------------+-------------------+-------------------+-------------------+-------------------+--------------+-----------------+--------------------+---------------+-------------+-----------+-----------+-----------+----+--------------------+----------+-------+------------------+---------------+--------------+\n",
            "|CustomerID|Count|      Country|     State|           City|Zip Code|            Lat Long| Latitude|  Longitude|Gender|Senior Citizen|Partner|Dependents|Tenure Months|Phone Service|  Multiple Lines|Internet Service|    Online Security|      Online Backup|  Device Protection|       Tech Support|       Streaming TV|   Streaming Movies|      Contract|Paperless Billing|      Payment Method|Monthly Charges|Total Charges|Churn Label|Churn Value|Churn Score|CLTV|        Churn Reason| Status ID|Quarter|Satisfaction Score|Customer Status|Churn Category|\n",
            "+----------+-----+-------------+----------+---------------+--------+--------------------+---------+-----------+------+--------------+-------+----------+-------------+-------------+----------------+----------------+-------------------+-------------------+-------------------+-------------------+-------------------+-------------------+--------------+-----------------+--------------------+---------------+-------------+-----------+-----------+-----------+----+--------------------+----------+-------+------------------+---------------+--------------+\n",
            "|3668-QPYBK|    1|United States|California|    Los Angeles|   90003|33.964131, -118.2...|33.964131|-118.272783|  Male|            No|     No|        No|            2|          Yes|              No|             DSL|                Yes|                Yes|                 No|                 No|                 No|                 No|Month-to-month|              Yes|        Mailed check|          53.85|       108.15|        Yes|          1|         86|3239|Competitor made b...|SUDNGT6444|     Q3|                 1|        Churned|    Competitor|\n",
            "|9237-HQITU|    1|United States|California|    Los Angeles|   90005|34.059281, -118.3...|34.059281| -118.30742|Female|            No|     No|       Yes|            2|          Yes|              No|     Fiber optic|                 No|                 No|                 No|                 No|                 No|                 No|Month-to-month|              Yes|    Electronic check|           70.7|       151.65|        Yes|          1|         67|2701|               Moved|KZSZDV8891|     Q3|                 2|        Churned|         Other|\n",
            "|9305-CDSKC|    1|United States|California|    Los Angeles|   90006|34.048013, -118.2...|34.048013|-118.293953|Female|            No|     No|       Yes|            8|          Yes|             Yes|     Fiber optic|                 No|                 No|                Yes|                 No|                Yes|                Yes|Month-to-month|              Yes|    Electronic check|          99.65|        820.5|        Yes|          1|         86|5372|               Moved|EPTIUU1269|     Q3|                 3|        Churned|         Other|\n",
            "|7892-POOKP|    1|United States|California|    Los Angeles|   90010|34.062125, -118.3...|34.062125|-118.315709|Female|            No|    Yes|       Yes|           28|          Yes|             Yes|     Fiber optic|                 No|                 No|                Yes|                Yes|                Yes|                Yes|Month-to-month|              Yes|    Electronic check|          104.8|      3046.05|        Yes|          1|         84|5003|               Moved|PAJIVH8196|     Q3|                 3|        Churned|         Other|\n",
            "|0280-XJGEX|    1|United States|California|    Los Angeles|   90015|34.039224, -118.2...|34.039224|-118.266293|  Male|            No|     No|       Yes|           49|          Yes|             Yes|     Fiber optic|                 No|                Yes|                Yes|                 No|                Yes|                Yes|Month-to-month|              Yes|Bank transfer (au...|          103.7|       5036.3|        Yes|          1|         89|5340|Competitor had be...|RXFOMV1173|     Q3|                 1|        Churned|    Competitor|\n",
            "|4190-MFLUW|    1|United States|California|    Los Angeles|   90020|34.066367, -118.3...|34.066367|-118.309868|Female|            No|    Yes|        No|           10|          Yes|              No|             DSL|                 No|                 No|                Yes|                Yes|                 No|                 No|Month-to-month|               No|Credit card (auto...|           55.2|       528.35|        Yes|          1|         78|5925|Competitor offere...|JFOFHU2246|     Q3|                 1|        Churned|    Competitor|\n",
            "|8779-QRDMV|    1|United States|California|    Los Angeles|   90022|34.02381, -118.15...| 34.02381|-118.156582|  Male|           Yes|     No|        No|            1|           No|No phone service|             DSL|                 No|                 No|                Yes|                 No|                 No|                Yes|Month-to-month|              Yes|    Electronic check|          39.65|        39.65|        Yes|          1|        100|5433|Competitor offere...|SWSORB1252|     Q3|                 3|        Churned|    Competitor|\n",
            "|1066-JKSGK|    1|United States|California|    Los Angeles|   90024|34.066303, -118.4...|34.066303|-118.435479|  Male|            No|     No|        No|            1|          Yes|              No|              No|No internet service|No internet service|No internet service|No internet service|No internet service|No internet service|Month-to-month|               No|        Mailed check|          20.15|        20.15|        Yes|          1|         92|4832|Competitor made b...|LXIWPV2763|     Q3|                 1|        Churned|    Competitor|\n",
            "|6467-CHFZW|    1|United States|California|    Los Angeles|   90028|34.099869, -118.3...|34.099869|-118.326843|  Male|            No|    Yes|       Yes|           47|          Yes|             Yes|     Fiber optic|                 No|                Yes|                 No|                 No|                Yes|                Yes|Month-to-month|              Yes|    Electronic check|          99.35|      4749.15|        Yes|          1|         77|5789|Competitor had be...|SPVBUS9328|     Q3|                 1|        Churned|    Competitor|\n",
            "|8665-UTDHZ|    1|United States|California|    Los Angeles|   90029|34.089953, -118.2...|34.089953|-118.294824|  Male|            No|    Yes|        No|            1|           No|No phone service|             DSL|                 No|                Yes|                 No|                 No|                 No|                 No|Month-to-month|               No|    Electronic check|           30.2|         30.2|        Yes|          1|         97|2915|Competitor had be...|ZUPEKW1663|     Q3|                 1|        Churned|    Competitor|\n",
            "|8773-HHUOZ|    1|United States|California|    Los Angeles|   90032|34.078821, -118.1...|34.078821|-118.177576|Female|            No|     No|        No|           17|          Yes|              No|             DSL|                 No|                 No|                 No|                 No|                Yes|                Yes|Month-to-month|              Yes|        Mailed check|           64.7|       1093.1|        Yes|          1|         74|3022|Competitor offere...|NJDJEF5327|     Q3|                 1|        Churned|    Competitor|\n",
            "|6047-YHPVI|    1|United States|California|    Los Angeles|   90039|34.110845, -118.2...|34.110845|-118.259595|  Male|            No|     No|       Yes|            5|          Yes|              No|     Fiber optic|                 No|                 No|                 No|                 No|                 No|                 No|Month-to-month|              Yes|    Electronic check|           69.7|        316.9|        Yes|          1|         66|2454|Competitor offere...|QKTHZB9414|     Q3|                 1|        Churned|    Competitor|\n",
            "|5380-WJKOV|    1|United States|California|    Los Angeles|   90041|34.137412, -118.2...|34.137412|-118.207607|  Male|            No|     No|       Yes|           34|          Yes|             Yes|     Fiber optic|                 No|                Yes|                Yes|                 No|                Yes|                Yes|Month-to-month|              Yes|    Electronic check|         106.35|      3549.25|        Yes|          1|         65|2941|Competitor offere...|OJJREZ1257|     Q3|                 2|        Churned|    Competitor|\n",
            "|8168-UQWWF|    1|United States|California|    Los Angeles|   90042|34.11572, -118.19...| 34.11572|-118.192754|Female|            No|     No|       Yes|           11|          Yes|             Yes|     Fiber optic|                 No|                 No|                Yes|                 No|                Yes|                Yes|Month-to-month|              Yes|Bank transfer (au...|          97.85|       1105.4|        Yes|          1|         70|5674|Competitor offere...|WOJGFP6376|     Q3|                 3|        Churned|    Competitor|\n",
            "|7760-OYPDY|    1|United States|California|    Los Angeles|   90056|33.987945, -118.3...|33.987945|-118.370442|Female|            No|     No|       Yes|            2|          Yes|              No|     Fiber optic|                 No|                 No|                 No|                 No|                Yes|                 No|Month-to-month|              Yes|    Electronic check|          80.65|       144.15|        Yes|          1|         90|5586|Competitor offere...|IFPGRC4891|     Q3|                 1|        Churned|    Competitor|\n",
            "|9420-LOJKX|    1|United States|California|    Los Angeles|   90061|33.92128, -118.27...| 33.92128|-118.274186|Female|            No|     No|       Yes|           15|          Yes|              No|     Fiber optic|                Yes|                Yes|                 No|                 No|                Yes|                Yes|Month-to-month|              Yes|Credit card (auto...|           99.1|       1426.4|        Yes|          1|         82|2966|Competitor offere...|HQOFFH8655|     Q3|                 1|        Churned|    Competitor|\n",
            "|7495-OOKFY|    1|United States|California|    Los Angeles|   90063|34.044271, -118.1...|34.044271|-118.185237|Female|           Yes|    Yes|       Yes|            8|          Yes|             Yes|     Fiber optic|                 No|                Yes|                 No|                 No|                 No|                 No|Month-to-month|              Yes|Credit card (auto...|          80.65|        633.3|        Yes|          1|         69|5302|Competitor made b...|SNAEQA8572|     Q3|                 3|        Churned|    Competitor|\n",
            "|1658-BYGOY|    1|United States|California|    Los Angeles|   90065|34.108833, -118.2...|34.108833|-118.229715|  Male|           Yes|     No|       Yes|           18|          Yes|             Yes|     Fiber optic|                 No|                 No|                 No|                 No|                Yes|                Yes|Month-to-month|              Yes|    Electronic check|          95.45|      1752.55|        Yes|          1|         81|3179|Competitor made b...|LMBQNN3714|     Q3|                 2|        Churned|    Competitor|\n",
            "|5698-BQJOH|    1|United States|California|  Beverly Hills|   90211|34.063947, -118.3...|34.063947|-118.383001|Female|            No|     No|       Yes|            9|          Yes|             Yes|     Fiber optic|                 No|                 No|                 No|                 No|                Yes|                Yes|Month-to-month|               No|    Electronic check|           94.4|       857.25|        Yes|          1|         96|5571|      Price too high|FUWKWM7892|     Q3|                 3|        Churned|         Price|\n",
            "|5919-TMRGD|    1|United States|California|Huntington Park|   90255|33.97803, -118.21...| 33.97803|-118.217141|Female|            No|     No|       Yes|            1|          Yes|              No|     Fiber optic|                 No|                 No|                 No|                 No|                Yes|                 No|Month-to-month|              Yes|    Electronic check|          79.35|        79.35|        Yes|          1|         87|2483|Product dissatisf...|MDOAVU2152|     Q3|                 1|        Churned|    Competitor|\n",
            "+----------+-----+-------------+----------+---------------+--------+--------------------+---------+-----------+------+--------------+-------+----------+-------------+-------------+----------------+----------------+-------------------+-------------------+-------------------+-------------------+-------------------+-------------------+--------------+-----------------+--------------------+---------------+-------------+-----------+-----------+-----------+----+--------------------+----------+-------+------------------+---------------+--------------+\n",
            "only showing top 20 rows\n",
            "\n"
          ]
        }
      ]
    },
    {
      "cell_type": "code",
      "source": [
        "#Displaying the first 2 rows of the dataset\n",
        "final_df.show(2, truncate=False)"
      ],
      "metadata": {
        "id": "vjK6Wis-4ztB",
        "colab": {
          "base_uri": "https://localhost:8080/"
        },
        "outputId": "c18f5ae5-51c0-4cdc-d21a-0a73c63460d4"
      },
      "execution_count": null,
      "outputs": [
        {
          "output_type": "stream",
          "name": "stdout",
          "text": [
            "+----------+-----+-------------+----------+-----------+--------+----------------------+---------+-----------+------+--------------+-------+----------+-------------+-------------+--------------+----------------+---------------+-------------+-----------------+------------+------------+----------------+--------------+-----------------+----------------+---------------+-------------+-----------+-----------+-----------+----+----------------------------+----------+-------+------------------+---------------+--------------+\n",
            "|CustomerID|Count|Country      |State     |City       |Zip Code|Lat Long              |Latitude |Longitude  |Gender|Senior Citizen|Partner|Dependents|Tenure Months|Phone Service|Multiple Lines|Internet Service|Online Security|Online Backup|Device Protection|Tech Support|Streaming TV|Streaming Movies|Contract      |Paperless Billing|Payment Method  |Monthly Charges|Total Charges|Churn Label|Churn Value|Churn Score|CLTV|Churn Reason                |Status ID |Quarter|Satisfaction Score|Customer Status|Churn Category|\n",
            "+----------+-----+-------------+----------+-----------+--------+----------------------+---------+-----------+------+--------------+-------+----------+-------------+-------------+--------------+----------------+---------------+-------------+-----------------+------------+------------+----------------+--------------+-----------------+----------------+---------------+-------------+-----------+-----------+-----------+----+----------------------------+----------+-------+------------------+---------------+--------------+\n",
            "|3668-QPYBK|1    |United States|California|Los Angeles|90003   |33.964131, -118.272783|33.964131|-118.272783|Male  |No            |No     |No        |2            |Yes          |No            |DSL             |Yes            |Yes          |No               |No          |No          |No              |Month-to-month|Yes              |Mailed check    |53.85          |108.15       |Yes        |1          |86         |3239|Competitor made better offer|SUDNGT6444|Q3     |1                 |Churned        |Competitor    |\n",
            "|9237-HQITU|1    |United States|California|Los Angeles|90005   |34.059281, -118.30742 |34.059281|-118.30742 |Female|No            |No     |Yes       |2            |Yes          |No            |Fiber optic     |No             |No           |No               |No          |No          |No              |Month-to-month|Yes              |Electronic check|70.7           |151.65       |Yes        |1          |67         |2701|Moved                       |KZSZDV8891|Q3     |2                 |Churned        |Other         |\n",
            "+----------+-----+-------------+----------+-----------+--------+----------------------+---------+-----------+------+--------------+-------+----------+-------------+-------------+--------------+----------------+---------------+-------------+-----------------+------------+------------+----------------+--------------+-----------------+----------------+---------------+-------------+-----------+-----------+-----------+----+----------------------------+----------+-------+------------------+---------------+--------------+\n",
            "only showing top 2 rows\n",
            "\n"
          ]
        }
      ]
    },
    {
      "cell_type": "code",
      "source": [
        "# Count the number of rows\n",
        "print(\"Total rows:\", final_df.count())"
      ],
      "metadata": {
        "id": "6nUP_C4u47Lz",
        "colab": {
          "base_uri": "https://localhost:8080/"
        },
        "outputId": "a0b67c97-7230-45b9-94ea-6671bac16fdd"
      },
      "execution_count": null,
      "outputs": [
        {
          "output_type": "stream",
          "name": "stdout",
          "text": [
            "Total rows: 7043\n"
          ]
        }
      ]
    },
    {
      "cell_type": "code",
      "source": [
        "# Counts the total number of rows in the dataset\n",
        "print(\"Number of observations:\", final_df.count())\n",
        "\n",
        "# Information of columns\n",
        "print(\"Information of columns:\\n\", final_df.columns)\n",
        "\n",
        "# Description of columns\n",
        "print(\"Description of columns:\")\n",
        "final_df.describe().show()\n",
        "\n",
        "# First few records\n",
        "print(\"First few records:\")\n",
        "final_df.show()"
      ],
      "metadata": {
        "id": "Th4yeBuU4--m",
        "colab": {
          "base_uri": "https://localhost:8080/"
        },
        "outputId": "5c740e66-5fda-4929-9ab0-5ec2975fbabc"
      },
      "execution_count": null,
      "outputs": [
        {
          "output_type": "stream",
          "name": "stdout",
          "text": [
            "Number of observations: 7043\n",
            "Information of columns:\n",
            " ['CustomerID', 'Count', 'Country', 'State', 'City', 'Zip Code', 'Lat Long', 'Latitude', 'Longitude', 'Gender', 'Senior Citizen', 'Partner', 'Dependents', 'Tenure Months', 'Phone Service', 'Multiple Lines', 'Internet Service', 'Online Security', 'Online Backup', 'Device Protection', 'Tech Support', 'Streaming TV', 'Streaming Movies', 'Contract', 'Paperless Billing', 'Payment Method', 'Monthly Charges', 'Total Charges', 'Churn Label', 'Churn Value', 'Churn Score', 'CLTV', 'Churn Reason', 'Status ID', 'Quarter', 'Satisfaction Score', 'Customer Status', 'Churn Category']\n",
            "Description of columns:\n",
            "+-------+----------+-----+-------------+----------+------+------------------+--------------------+-----------------+------------------+------+--------------+-------+----------+------------------+-------------+--------------+----------------+---------------+-------------+-----------------+------------+------------+----------------+--------------+-----------------+--------------------+------------------+------------------+-----------+------------------+------------------+------------------+--------------------+----------+-------+------------------+---------------+--------------+\n",
            "|summary|CustomerID|Count|      Country|     State|  City|          Zip Code|            Lat Long|         Latitude|         Longitude|Gender|Senior Citizen|Partner|Dependents|     Tenure Months|Phone Service|Multiple Lines|Internet Service|Online Security|Online Backup|Device Protection|Tech Support|Streaming TV|Streaming Movies|      Contract|Paperless Billing|      Payment Method|   Monthly Charges|     Total Charges|Churn Label|       Churn Value|       Churn Score|              CLTV|        Churn Reason| Status ID|Quarter|Satisfaction Score|Customer Status|Churn Category|\n",
            "+-------+----------+-----+-------------+----------+------+------------------+--------------------+-----------------+------------------+------+--------------+-------+----------+------------------+-------------+--------------+----------------+---------------+-------------+-----------------+------------+------------+----------------+--------------+-----------------+--------------------+------------------+------------------+-----------+------------------+------------------+------------------+--------------------+----------+-------+------------------+---------------+--------------+\n",
            "|  count|      7043| 7043|         7043|      7043|  7043|              7043|                7043|             7043|              7043|  7043|          7043|   7043|      7043|              7043|         7043|          7043|            7043|           7043|         7043|             7043|        7043|        7043|            7043|          7043|             7043|                7043|              7043|              7043|       7043|              7043|              7043|              7043|                1869|      7043|   7043|              7043|           7043|          1869|\n",
            "|   mean|      NULL|  1.0|         NULL|      NULL|  NULL| 93521.96464574755|                NULL|36.28244138108772| -119.798880081215|  NULL|          NULL|   NULL|      NULL| 32.37114865824223|         NULL|          NULL|            NULL|           NULL|         NULL|             NULL|        NULL|        NULL|            NULL|          NULL|             NULL|                NULL|  64.7616924605991|2283.3004408418697|       NULL|0.2653698707936959| 58.69941786170666| 4400.295754650007|                NULL|      NULL|   NULL|3.2449240380519666|           NULL|          NULL|\n",
            "| stddev|      NULL|  0.0|         NULL|      NULL|  NULL|1865.7945553965885|                NULL| 2.45572258957212|2.1578890952575827|  NULL|          NULL|   NULL|      NULL|24.559481023094488|         NULL|          NULL|            NULL|           NULL|         NULL|             NULL|        NULL|        NULL|            NULL|          NULL|             NULL|                NULL|30.090047097678507| 2266.771361883143|       NULL|0.4415613051219464|21.525130678490775|1183.0571519525213|                NULL|      NULL|   NULL|1.2016571225409551|           NULL|          NULL|\n",
            "|    min|0002-ORFBO|    1|United States|California|Acampo|             90001|32.555828, -117.0...|        32.555828|       -124.301372|Female|            No|     No|        No|                 0|           No|            No|             DSL|             No|           No|               No|          No|          No|              No|Month-to-month|               No|Bank transfer (au...|             18.25|                  |         No|                 0|                 5|              2003|Attitude of servi...|AAEDXJ7271|     Q3|                 1|        Churned|      Attitude|\n",
            "|    max|9995-HOTOH|    1|United States|California| Zenia|             96161|41.962127, -122.5...|        41.962127|       -114.192901|  Male|           Yes|    Yes|       Yes|                72|          Yes|           Yes|              No|            Yes|          Yes|              Yes|         Yes|         Yes|             Yes|      Two year|              Yes|        Mailed check|            118.75|             999.9|        Yes|                 1|               100|              6500|Service dissatisf...|ZZZXPR9871|     Q3|                 5|         Stayed|         Price|\n",
            "+-------+----------+-----+-------------+----------+------+------------------+--------------------+-----------------+------------------+------+--------------+-------+----------+------------------+-------------+--------------+----------------+---------------+-------------+-----------------+------------+------------+----------------+--------------+-----------------+--------------------+------------------+------------------+-----------+------------------+------------------+------------------+--------------------+----------+-------+------------------+---------------+--------------+\n",
            "\n",
            "First few records:\n",
            "+----------+-----+-------------+----------+---------------+--------+--------------------+---------+-----------+------+--------------+-------+----------+-------------+-------------+----------------+----------------+-------------------+-------------------+-------------------+-------------------+-------------------+-------------------+--------------+-----------------+--------------------+---------------+-------------+-----------+-----------+-----------+----+--------------------+----------+-------+------------------+---------------+--------------+\n",
            "|CustomerID|Count|      Country|     State|           City|Zip Code|            Lat Long| Latitude|  Longitude|Gender|Senior Citizen|Partner|Dependents|Tenure Months|Phone Service|  Multiple Lines|Internet Service|    Online Security|      Online Backup|  Device Protection|       Tech Support|       Streaming TV|   Streaming Movies|      Contract|Paperless Billing|      Payment Method|Monthly Charges|Total Charges|Churn Label|Churn Value|Churn Score|CLTV|        Churn Reason| Status ID|Quarter|Satisfaction Score|Customer Status|Churn Category|\n",
            "+----------+-----+-------------+----------+---------------+--------+--------------------+---------+-----------+------+--------------+-------+----------+-------------+-------------+----------------+----------------+-------------------+-------------------+-------------------+-------------------+-------------------+-------------------+--------------+-----------------+--------------------+---------------+-------------+-----------+-----------+-----------+----+--------------------+----------+-------+------------------+---------------+--------------+\n",
            "|3668-QPYBK|    1|United States|California|    Los Angeles|   90003|33.964131, -118.2...|33.964131|-118.272783|  Male|            No|     No|        No|            2|          Yes|              No|             DSL|                Yes|                Yes|                 No|                 No|                 No|                 No|Month-to-month|              Yes|        Mailed check|          53.85|       108.15|        Yes|          1|         86|3239|Competitor made b...|SUDNGT6444|     Q3|                 1|        Churned|    Competitor|\n",
            "|9237-HQITU|    1|United States|California|    Los Angeles|   90005|34.059281, -118.3...|34.059281| -118.30742|Female|            No|     No|       Yes|            2|          Yes|              No|     Fiber optic|                 No|                 No|                 No|                 No|                 No|                 No|Month-to-month|              Yes|    Electronic check|           70.7|       151.65|        Yes|          1|         67|2701|               Moved|KZSZDV8891|     Q3|                 2|        Churned|         Other|\n",
            "|9305-CDSKC|    1|United States|California|    Los Angeles|   90006|34.048013, -118.2...|34.048013|-118.293953|Female|            No|     No|       Yes|            8|          Yes|             Yes|     Fiber optic|                 No|                 No|                Yes|                 No|                Yes|                Yes|Month-to-month|              Yes|    Electronic check|          99.65|        820.5|        Yes|          1|         86|5372|               Moved|EPTIUU1269|     Q3|                 3|        Churned|         Other|\n",
            "|7892-POOKP|    1|United States|California|    Los Angeles|   90010|34.062125, -118.3...|34.062125|-118.315709|Female|            No|    Yes|       Yes|           28|          Yes|             Yes|     Fiber optic|                 No|                 No|                Yes|                Yes|                Yes|                Yes|Month-to-month|              Yes|    Electronic check|          104.8|      3046.05|        Yes|          1|         84|5003|               Moved|PAJIVH8196|     Q3|                 3|        Churned|         Other|\n",
            "|0280-XJGEX|    1|United States|California|    Los Angeles|   90015|34.039224, -118.2...|34.039224|-118.266293|  Male|            No|     No|       Yes|           49|          Yes|             Yes|     Fiber optic|                 No|                Yes|                Yes|                 No|                Yes|                Yes|Month-to-month|              Yes|Bank transfer (au...|          103.7|       5036.3|        Yes|          1|         89|5340|Competitor had be...|RXFOMV1173|     Q3|                 1|        Churned|    Competitor|\n",
            "|4190-MFLUW|    1|United States|California|    Los Angeles|   90020|34.066367, -118.3...|34.066367|-118.309868|Female|            No|    Yes|        No|           10|          Yes|              No|             DSL|                 No|                 No|                Yes|                Yes|                 No|                 No|Month-to-month|               No|Credit card (auto...|           55.2|       528.35|        Yes|          1|         78|5925|Competitor offere...|JFOFHU2246|     Q3|                 1|        Churned|    Competitor|\n",
            "|8779-QRDMV|    1|United States|California|    Los Angeles|   90022|34.02381, -118.15...| 34.02381|-118.156582|  Male|           Yes|     No|        No|            1|           No|No phone service|             DSL|                 No|                 No|                Yes|                 No|                 No|                Yes|Month-to-month|              Yes|    Electronic check|          39.65|        39.65|        Yes|          1|        100|5433|Competitor offere...|SWSORB1252|     Q3|                 3|        Churned|    Competitor|\n",
            "|1066-JKSGK|    1|United States|California|    Los Angeles|   90024|34.066303, -118.4...|34.066303|-118.435479|  Male|            No|     No|        No|            1|          Yes|              No|              No|No internet service|No internet service|No internet service|No internet service|No internet service|No internet service|Month-to-month|               No|        Mailed check|          20.15|        20.15|        Yes|          1|         92|4832|Competitor made b...|LXIWPV2763|     Q3|                 1|        Churned|    Competitor|\n",
            "|6467-CHFZW|    1|United States|California|    Los Angeles|   90028|34.099869, -118.3...|34.099869|-118.326843|  Male|            No|    Yes|       Yes|           47|          Yes|             Yes|     Fiber optic|                 No|                Yes|                 No|                 No|                Yes|                Yes|Month-to-month|              Yes|    Electronic check|          99.35|      4749.15|        Yes|          1|         77|5789|Competitor had be...|SPVBUS9328|     Q3|                 1|        Churned|    Competitor|\n",
            "|8665-UTDHZ|    1|United States|California|    Los Angeles|   90029|34.089953, -118.2...|34.089953|-118.294824|  Male|            No|    Yes|        No|            1|           No|No phone service|             DSL|                 No|                Yes|                 No|                 No|                 No|                 No|Month-to-month|               No|    Electronic check|           30.2|         30.2|        Yes|          1|         97|2915|Competitor had be...|ZUPEKW1663|     Q3|                 1|        Churned|    Competitor|\n",
            "|8773-HHUOZ|    1|United States|California|    Los Angeles|   90032|34.078821, -118.1...|34.078821|-118.177576|Female|            No|     No|        No|           17|          Yes|              No|             DSL|                 No|                 No|                 No|                 No|                Yes|                Yes|Month-to-month|              Yes|        Mailed check|           64.7|       1093.1|        Yes|          1|         74|3022|Competitor offere...|NJDJEF5327|     Q3|                 1|        Churned|    Competitor|\n",
            "|6047-YHPVI|    1|United States|California|    Los Angeles|   90039|34.110845, -118.2...|34.110845|-118.259595|  Male|            No|     No|       Yes|            5|          Yes|              No|     Fiber optic|                 No|                 No|                 No|                 No|                 No|                 No|Month-to-month|              Yes|    Electronic check|           69.7|        316.9|        Yes|          1|         66|2454|Competitor offere...|QKTHZB9414|     Q3|                 1|        Churned|    Competitor|\n",
            "|5380-WJKOV|    1|United States|California|    Los Angeles|   90041|34.137412, -118.2...|34.137412|-118.207607|  Male|            No|     No|       Yes|           34|          Yes|             Yes|     Fiber optic|                 No|                Yes|                Yes|                 No|                Yes|                Yes|Month-to-month|              Yes|    Electronic check|         106.35|      3549.25|        Yes|          1|         65|2941|Competitor offere...|OJJREZ1257|     Q3|                 2|        Churned|    Competitor|\n",
            "|8168-UQWWF|    1|United States|California|    Los Angeles|   90042|34.11572, -118.19...| 34.11572|-118.192754|Female|            No|     No|       Yes|           11|          Yes|             Yes|     Fiber optic|                 No|                 No|                Yes|                 No|                Yes|                Yes|Month-to-month|              Yes|Bank transfer (au...|          97.85|       1105.4|        Yes|          1|         70|5674|Competitor offere...|WOJGFP6376|     Q3|                 3|        Churned|    Competitor|\n",
            "|7760-OYPDY|    1|United States|California|    Los Angeles|   90056|33.987945, -118.3...|33.987945|-118.370442|Female|            No|     No|       Yes|            2|          Yes|              No|     Fiber optic|                 No|                 No|                 No|                 No|                Yes|                 No|Month-to-month|              Yes|    Electronic check|          80.65|       144.15|        Yes|          1|         90|5586|Competitor offere...|IFPGRC4891|     Q3|                 1|        Churned|    Competitor|\n",
            "|9420-LOJKX|    1|United States|California|    Los Angeles|   90061|33.92128, -118.27...| 33.92128|-118.274186|Female|            No|     No|       Yes|           15|          Yes|              No|     Fiber optic|                Yes|                Yes|                 No|                 No|                Yes|                Yes|Month-to-month|              Yes|Credit card (auto...|           99.1|       1426.4|        Yes|          1|         82|2966|Competitor offere...|HQOFFH8655|     Q3|                 1|        Churned|    Competitor|\n",
            "|7495-OOKFY|    1|United States|California|    Los Angeles|   90063|34.044271, -118.1...|34.044271|-118.185237|Female|           Yes|    Yes|       Yes|            8|          Yes|             Yes|     Fiber optic|                 No|                Yes|                 No|                 No|                 No|                 No|Month-to-month|              Yes|Credit card (auto...|          80.65|        633.3|        Yes|          1|         69|5302|Competitor made b...|SNAEQA8572|     Q3|                 3|        Churned|    Competitor|\n",
            "|1658-BYGOY|    1|United States|California|    Los Angeles|   90065|34.108833, -118.2...|34.108833|-118.229715|  Male|           Yes|     No|       Yes|           18|          Yes|             Yes|     Fiber optic|                 No|                 No|                 No|                 No|                Yes|                Yes|Month-to-month|              Yes|    Electronic check|          95.45|      1752.55|        Yes|          1|         81|3179|Competitor made b...|LMBQNN3714|     Q3|                 2|        Churned|    Competitor|\n",
            "|5698-BQJOH|    1|United States|California|  Beverly Hills|   90211|34.063947, -118.3...|34.063947|-118.383001|Female|            No|     No|       Yes|            9|          Yes|             Yes|     Fiber optic|                 No|                 No|                 No|                 No|                Yes|                Yes|Month-to-month|               No|    Electronic check|           94.4|       857.25|        Yes|          1|         96|5571|      Price too high|FUWKWM7892|     Q3|                 3|        Churned|         Price|\n",
            "|5919-TMRGD|    1|United States|California|Huntington Park|   90255|33.97803, -118.21...| 33.97803|-118.217141|Female|            No|     No|       Yes|            1|          Yes|              No|     Fiber optic|                 No|                 No|                 No|                 No|                Yes|                 No|Month-to-month|              Yes|    Electronic check|          79.35|        79.35|        Yes|          1|         87|2483|Product dissatisf...|MDOAVU2152|     Q3|                 1|        Churned|    Competitor|\n",
            "+----------+-----+-------------+----------+---------------+--------+--------------------+---------+-----------+------+--------------+-------+----------+-------------+-------------+----------------+----------------+-------------------+-------------------+-------------------+-------------------+-------------------+-------------------+--------------+-----------------+--------------------+---------------+-------------+-----------+-----------+-----------+----+--------------------+----------+-------+------------------+---------------+--------------+\n",
            "only showing top 20 rows\n",
            "\n"
          ]
        }
      ]
    },
    {
      "cell_type": "markdown",
      "source": [
        "**Identify churn rates among different customer groups categorized based on their monthly charges and tenure**"
      ],
      "metadata": {
        "id": "auuAk_Kk31eo"
      }
    },
    {
      "cell_type": "code",
      "source": [
        "from pyspark.sql.functions import when, col, avg\n",
        "\n",
        "# Calculate median values for \"Monthly Charges\" and \"Tenure Months\"\n",
        "median_monthly_charges = final_df.stat.approxQuantile(\"Monthly Charges\", [0.5], 0)[0]\n",
        "median_tenure_months = final_df.stat.approxQuantile(\"Tenure Months\", [0.5], 0)[0]\n",
        "\n",
        "# Categorize customers into groups based on their \"Monthly Charges\" and \"Tenure Months\"\n",
        "final_df = final_df.withColumn(\"CustomerGroup\",\n",
        "    when(\n",
        "        (col(\"Monthly Charges\") <= median_monthly_charges) & (col(\"Tenure Months\") <= median_tenure_months), \"Low Spend, Short Tenure\"\n",
        "    ).when(\n",
        "        (col(\"Monthly Charges\") <= median_monthly_charges) & (col(\"Tenure Months\") > median_tenure_months), \"Low Spend, Long Tenure\"\n",
        "    ).when(\n",
        "        (col(\"Monthly Charges\") > median_monthly_charges) & (col(\"Tenure Months\") <= median_tenure_months), \"High Spend, Short Tenure\"\n",
        "    ).otherwise(\"High Spend, Long Tenure\")\n",
        ")\n",
        "\n",
        "final_df = final_df.withColumn(\"IsChurned\", when(col(\"Churn Label\") == \"Yes\", 1).otherwise(0))\n",
        "\n",
        "# Calculate churn rate for each group\n",
        "churn_rate_by_group = final_df.groupBy(\"CustomerGroup\").agg(\n",
        "    (avg(\"IsChurned\") * 100).alias(\"ChurnRate\")\n",
        ").orderBy(\"CustomerGroup\")\n",
        "\n",
        "# Display the churn rate by customer group\n",
        "churn_rate_by_group.show()\n"
      ],
      "metadata": {
        "id": "_wJurUmz2daU",
        "colab": {
          "base_uri": "https://localhost:8080/"
        },
        "outputId": "2f73df79-7a2c-48a1-a8d2-858ed3d40427"
      },
      "execution_count": null,
      "outputs": [
        {
          "output_type": "stream",
          "name": "stdout",
          "text": [
            "+--------------------+------------------+\n",
            "|       CustomerGroup|         ChurnRate|\n",
            "+--------------------+------------------+\n",
            "|High Spend, Long ...|18.676470588235293|\n",
            "|High Spend, Short...| 58.03389830508474|\n",
            "|Low Spend, Long T...| 5.509065550906555|\n",
            "|Low Spend, Short ...|26.408787010506206|\n",
            "+--------------------+------------------+\n",
            "\n"
          ]
        }
      ]
    },
    {
      "cell_type": "markdown",
      "source": [
        "**Inference:**\n",
        "\n",
        "1. The \"High Spend, Short Tenure\" group has the highest churn rate, significantly more than any other group. This indicates that newer customers with higher monthly charges are more likely to leave the service.\n",
        "\n",
        "**Recommendation:**\n",
        "\n",
        "1. To address the high churn in the \"High Spend, Short Tenure\" segment, the company should consider strategies like offering introductory promotions, gradual pricing plans, or enhanced customer service support early in the customer lifecycle"
      ],
      "metadata": {
        "id": "L0Qd4HyxLvYo"
      }
    },
    {
      "cell_type": "markdown",
      "source": [
        "**What is the impact of contract type on customer churn?**"
      ],
      "metadata": {
        "id": "8m6Z6Py2_EAZ"
      }
    },
    {
      "cell_type": "code",
      "source": [
        "from pyspark.sql.functions import when, col, avg\n",
        "\n",
        "# Calculate churn rate by contract type\n",
        "churn_rate_by_contract = final_df.groupBy(\"Contract\").agg(\n",
        "    (avg(when(col(\"Churn Label\") == \"Yes\", 1).otherwise(0)) * 100).alias(\"ChurnRate\")\n",
        ").orderBy(\"ChurnRate\")\n",
        "\n",
        "churn_rate_by_contract.show()"
      ],
      "metadata": {
        "id": "2Sa-20d255pz",
        "colab": {
          "base_uri": "https://localhost:8080/"
        },
        "outputId": "eae7c948-3252-48f0-eba6-5d082e04f0b2"
      },
      "execution_count": null,
      "outputs": [
        {
          "output_type": "stream",
          "name": "stdout",
          "text": [
            "+--------------+------------------+\n",
            "|      Contract|         ChurnRate|\n",
            "+--------------+------------------+\n",
            "|      Two year| 2.831858407079646|\n",
            "|      One year|11.269517990495586|\n",
            "|Month-to-month| 42.70967741935484|\n",
            "+--------------+------------------+\n",
            "\n"
          ]
        }
      ]
    },
    {
      "cell_type": "markdown",
      "source": [
        "**How does tenure relate to churn?**"
      ],
      "metadata": {
        "id": "A8HmqwDp_KXo"
      }
    },
    {
      "cell_type": "code",
      "source": [
        "# Categorize tenure into groups\n",
        "final_df = final_df.withColumn(\"TenureGroup\",\n",
        "    when(col(\"Tenure Months\") <= 12, \"0-12 Months\")\n",
        "    .when((col(\"Tenure Months\") > 12) & (col(\"Tenure Months\") <= 24), \"13-24 Months\")\n",
        "    .when((col(\"Tenure Months\") > 24) & (col(\"Tenure Months\") <= 36), \"25-36 Months\")\n",
        "    .when((col(\"Tenure Months\") > 36) & (col(\"Tenure Months\") <= 48), \"37-48 Months\")\n",
        "    .when((col(\"Tenure Months\") > 48) & (col(\"Tenure Months\") <= 60), \"49-60 Months\")\n",
        "    .otherwise(\"Over 60 Months\"))\n",
        "\n",
        "# Calculate churn rate by tenure group\n",
        "churn_rate_by_tenure = final_df.groupBy(\"TenureGroup\").agg(\n",
        "    (avg(\"IsChurned\") * 100).alias(\"ChurnRate\")\n",
        ").orderBy(\"TenureGroup\")\n",
        "\n",
        "churn_rate_by_tenure.show()\n",
        "\n"
      ],
      "metadata": {
        "id": "zQQWm_Zj-iMQ",
        "colab": {
          "base_uri": "https://localhost:8080/"
        },
        "outputId": "e33b76bd-5788-407f-da94-175274225ce7"
      },
      "execution_count": null,
      "outputs": [
        {
          "output_type": "stream",
          "name": "stdout",
          "text": [
            "+--------------+------------------+\n",
            "|   TenureGroup|         ChurnRate|\n",
            "+--------------+------------------+\n",
            "|   0-12 Months|47.438243366880144|\n",
            "|  13-24 Months|        28.7109375|\n",
            "|  25-36 Months|21.634615384615387|\n",
            "|  37-48 Months|19.028871391076116|\n",
            "|  49-60 Months|14.423076923076922|\n",
            "|Over 60 Months| 6.609808102345416|\n",
            "+--------------+------------------+\n",
            "\n"
          ]
        }
      ]
    },
    {
      "cell_type": "markdown",
      "source": [
        "**Is there a relationship between monthly charges and churn?**"
      ],
      "metadata": {
        "id": "t1IKQKDm_QlG"
      }
    },
    {
      "cell_type": "code",
      "source": [
        "# Categorize monthly charges into ranges\n",
        "final_df = final_df.withColumn(\"MonthlyChargesRange\",\n",
        "    when(col(\"Monthly Charges\") <= 30, \"0-30\")\n",
        "    .when((col(\"Monthly Charges\") > 30) & (col(\"Monthly Charges\") <= 60), \"31-60\")\n",
        "    .when((col(\"Monthly Charges\") > 60) & (col(\"Monthly Charges\") <= 90), \"61-90\")\n",
        "    .otherwise(\"Over 90\"))\n",
        "\n",
        "# Calculate churn rate by monthly charges range\n",
        "churn_rate_by_monthly_charges = final_df.groupBy(\"MonthlyChargesRange\").agg(\n",
        "    (avg(\"IsChurned\") * 100).alias(\"ChurnRate\")\n",
        ").orderBy(\"MonthlyChargesRange\")\n",
        "\n",
        "churn_rate_by_monthly_charges.show()\n"
      ],
      "metadata": {
        "id": "UClhwiyA-5Qd",
        "colab": {
          "base_uri": "https://localhost:8080/"
        },
        "outputId": "a998af3a-800f-4d35-ea0e-121c92011184"
      },
      "execution_count": null,
      "outputs": [
        {
          "output_type": "stream",
          "name": "stdout",
          "text": [
            "+-------------------+------------------+\n",
            "|MonthlyChargesRange|         ChurnRate|\n",
            "+-------------------+------------------+\n",
            "|               0-30| 9.800362976406534|\n",
            "|              31-60| 25.92885375494071|\n",
            "|              61-90|33.906119027661354|\n",
            "|            Over 90|  32.7774583093732|\n",
            "+-------------------+------------------+\n",
            "\n"
          ]
        }
      ]
    },
    {
      "cell_type": "markdown",
      "source": [
        "**Inference:**  \n",
        "\n",
        "1. The churn rate increases with higher monthly charges, with the highest churn rate observed in the \"Over 90\" charges range. This indicates a possible price sensitivity among customers, where higher costs may lead to increased churn.\n",
        "\n",
        "**Recommendation:**  \n",
        "\n",
        "1. The company should consider revising its pricing strategy for the highest-spending customer segments or offer more value for money to justify the higher costs."
      ],
      "metadata": {
        "id": "UJdBiDxQMUwU"
      }
    },
    {
      "cell_type": "markdown",
      "source": [
        "**Do additional services (like Online Security, Tech Support) affect churn rates?**"
      ],
      "metadata": {
        "id": "Bv7e2zom_Vw6"
      }
    },
    {
      "cell_type": "code",
      "source": [
        "\n",
        "churn_rate_by_online_security = final_df.groupBy(\"Online Security\").agg(\n",
        "    (avg(\"IsChurned\") * 100).alias(\"ChurnRate\")\n",
        ").orderBy(\"Online Security\")\n",
        "\n",
        "churn_rate_by_online_security.show()\n"
      ],
      "metadata": {
        "id": "-gLOFrl-_S0A",
        "colab": {
          "base_uri": "https://localhost:8080/"
        },
        "outputId": "44fb2c5a-b735-4f87-8078-444dbe00b83a"
      },
      "execution_count": null,
      "outputs": [
        {
          "output_type": "stream",
          "name": "stdout",
          "text": [
            "+-------------------+------------------+\n",
            "|    Online Security|         ChurnRate|\n",
            "+-------------------+------------------+\n",
            "|                 No| 41.76672384219554|\n",
            "|No internet service| 7.404980340760157|\n",
            "|                Yes|14.611193660227837|\n",
            "+-------------------+------------------+\n",
            "\n"
          ]
        }
      ]
    },
    {
      "cell_type": "markdown",
      "source": [
        "**What is the distribution of tenure among churned and retained customers?**"
      ],
      "metadata": {
        "id": "KA4Q4qrf_iwb"
      }
    },
    {
      "cell_type": "code",
      "source": [
        "import matplotlib.pyplot as plt\n",
        "import seaborn as sns\n",
        "\n",
        "tenure_churn_pdf = final_df.select('Tenure Months', 'Churn Label').toPandas()\n",
        "\n",
        "\n",
        "plt.figure(figsize=(10, 6))\n",
        "sns.histplot(data=tenure_churn_pdf, x='Tenure Months', hue='Churn Label', multiple=\"stack\")\n",
        "plt.title('Distribution of Tenure by Churn')\n",
        "plt.xlabel('Tenure Months')\n",
        "plt.ylabel('Number of Customers')\n",
        "plt.show()\n"
      ],
      "metadata": {
        "id": "ls6Wr1nK_X1p",
        "colab": {
          "base_uri": "https://localhost:8080/",
          "height": 564
        },
        "outputId": "a211c572-7b17-4f23-e72a-1751a2657504"
      },
      "execution_count": null,
      "outputs": [
        {
          "output_type": "display_data",
          "data": {
            "text/plain": [
              "<Figure size 1000x600 with 1 Axes>"
            ],
            "image/png": "[encoded data removed]"
          },
          "metadata": {}
        }
      ]
    },
    {
      "cell_type": "markdown",
      "source": [
        "**Inference:**\n",
        "\n",
        "1. Churn is significantly higher among customers with a shorter tenure, particularly noticeable within the first 10 months, indicating that early engagement is critical to customer retention.\n",
        "\n",
        "2. Customers with a tenure of around 70 months show a notable increase in retention, suggesting that if customers stay beyond a certain period, they are much less likely to churn.\n",
        "\n"
      ],
      "metadata": {
        "id": "6hzMSgTrSovK"
      }
    },
    {
      "cell_type": "markdown",
      "source": [
        "**How do monthly charges affect churn?**"
      ],
      "metadata": {
        "id": "U_QpsKu3_slQ"
      }
    },
    {
      "cell_type": "code",
      "source": [
        "monthly_charges_churn_pdf = final_df.select('Monthly Charges', 'Churn Label').toPandas()\n",
        "\n",
        "# Plot\n",
        "plt.figure(figsize=(10, 6))\n",
        "sns.boxplot(data=monthly_charges_churn_pdf, x='Churn Label', y='Monthly Charges')\n",
        "plt.title('Monthly Charges by Churn Status')\n",
        "plt.xlabel('Churn Label')\n",
        "plt.ylabel('Monthly Charges ($)')\n",
        "plt.show()\n"
      ],
      "metadata": {
        "id": "_cZRaPDz_kwa",
        "colab": {
          "base_uri": "https://localhost:8080/",
          "height": 564
        },
        "outputId": "1e5951c6-dc70-44cb-a16a-53a00fe449bd"
      },
      "execution_count": null,
      "outputs": [
        {
          "output_type": "display_data",
          "data": {
            "text/plain": [
              "<Figure size 1000x600 with 1 Axes>"
            ],
            "image/png": "[encoded data removed]"
          },
          "metadata": {}
        }
      ]
    },
    {
      "cell_type": "markdown",
      "source": [
        "**What is the churn rate by contract type?**"
      ],
      "metadata": {
        "id": "e2FKCnDQ_wA4"
      }
    },
    {
      "cell_type": "code",
      "source": [
        "churn_rate_by_contract_pdf = final_df.groupBy(\"Contract\").agg(\n",
        "    (avg(when(col(\"Churn Label\") == \"Yes\", 1).otherwise(0)) * 100).alias(\"ChurnRate\")\n",
        ").toPandas()\n",
        "\n",
        "\n",
        "plt.figure(figsize=(10, 6))\n",
        "sns.barplot(data=churn_rate_by_contract_pdf, x='Contract', y='ChurnRate')\n",
        "plt.title('Churn Rate by Contract Type')\n",
        "plt.xlabel('Contract Type')\n",
        "plt.ylabel('Churn Rate (%)')\n",
        "plt.xticks(rotation=45)\n",
        "plt.show()\n"
      ],
      "metadata": {
        "id": "YRWsZIOd_uGD",
        "colab": {
          "base_uri": "https://localhost:8080/",
          "height": 640
        },
        "outputId": "f39dee16-f34f-43f8-dd06-424de377c925"
      },
      "execution_count": null,
      "outputs": [
        {
          "output_type": "display_data",
          "data": {
            "text/plain": [
              "<Figure size 1000x600 with 1 Axes>"
            ],
            "image/png": "[encoded data removed]"
          },
          "metadata": {}
        }
      ]
    },
    {
      "cell_type": "markdown",
      "source": [
        "Churn is significantly higher among customers with a shorter tenure, particularly noticeable within the first 10 months, indicating that early engagement is critical to customer retention.\n",
        "Customers with a tenure of around 70 months show a notable increase in retention, suggesting that if customers stay beyond a certain period, they are much less likely to churn.\n",
        "\n"
      ],
      "metadata": {
        "id": "GvrGWBoNTCZb"
      }
    },
    {
      "cell_type": "markdown",
      "source": [
        "**What is the impact of online security on churn?**"
      ],
      "metadata": {
        "id": "eI1yruW3_zJm"
      }
    },
    {
      "cell_type": "code",
      "source": [
        "churn_rate_by_online_security_pdf = final_df.groupBy(\"Online Security\").agg(\n",
        "    (avg(when(col(\"Churn Label\") == \"Yes\", 1).otherwise(0)) * 100).alias(\"ChurnRate\")\n",
        ").toPandas()\n",
        "\n",
        "plt.figure(figsize=(10, 6))\n",
        "sns.barplot(data=churn_rate_by_online_security_pdf, x='Online Security', y='ChurnRate')\n",
        "plt.title('Churn Rate by Online Security Subscription')\n",
        "plt.xlabel('Online Security')\n",
        "plt.ylabel('Churn Rate (%)')\n",
        "plt.show()\n"
      ],
      "metadata": {
        "id": "xn0jjGWu_xis",
        "colab": {
          "base_uri": "https://localhost:8080/",
          "height": 564
        },
        "outputId": "c3716da7-a42e-4fa8-9f1e-9cc0fb0e4982"
      },
      "execution_count": null,
      "outputs": [
        {
          "output_type": "display_data",
          "data": {
            "text/plain": [
              "<Figure size 1000x600 with 1 Axes>"
            ],
            "image/png": "[encoded data removed]"
          },
          "metadata": {}
        }
      ]
    },
    {
      "cell_type": "code",
      "source": [
        "# Define the new columns 'InvitationSource' and 'ReferralCustomerID' with dummy values\n",
        "invitation_sources = ['referred by', 'friend of', 'family member of', 'promotional offer', 'merchant collaboration']\n",
        "\n",
        "# Add 'InvitationSource' column with random values\n",
        "from pyspark.sql import SparkSession\n",
        "from pyspark.sql.functions import udf\n",
        "from pyspark.sql.types import StringType\n",
        "from random import choice\n",
        "\n",
        "# UDF to generate random invitation sources\n",
        "def random_invitation_source():\n",
        "    return choice(invitation_sources)\n",
        "\n",
        "random_invitation_source_udf = udf(random_invitation_source, StringType())\n",
        "final_df = final_df.withColumn(\"InvitationSource\", random_invitation_source_udf())\n",
        "\n",
        "# Add 'ReferralCustomerID' column with dummy values\n",
        "customer_ids = final_df.select(\"CustomerID\").distinct().collect()\n",
        "customer_ids_list = [row[\"CustomerID\"] for row in customer_ids]\n",
        "\n",
        "# UDF to select random customerID\n",
        "def random_customer_id():\n",
        "    return choice(customer_ids_list)\n",
        "\n",
        "random_customer_id_udf = udf(random_customer_id, StringType())\n",
        "final_df = final_df.withColumn(\"ReferralCustomerID\", random_customer_id_udf())\n",
        "\n",
        "# Display the modified DataFrame\n",
        "final_df.show(2, truncate=False)\n"
      ],
      "metadata": {
        "id": "o1AXEtip_1NF",
        "colab": {
          "base_uri": "https://localhost:8080/"
        },
        "outputId": "c6a5fd06-9409-4ed8-b146-6b90b8552038"
      },
      "execution_count": null,
      "outputs": [
        {
          "output_type": "stream",
          "name": "stdout",
          "text": [
            "+----------+-----+-------------+----------+-----------+--------+----------------------+---------+-----------+------+--------------+-------+----------+-------------+-------------+--------------+----------------+---------------+-------------+-----------------+------------+------------+----------------+--------------+-----------------+----------------+---------------+-------------+-----------+-----------+-----------+----+----------------------------+----------+-------+------------------+---------------+--------------+------------------------+---------+-----------+-------------------+----------------+------------------+\n",
            "|CustomerID|Count|Country      |State     |City       |Zip Code|Lat Long              |Latitude |Longitude  |Gender|Senior Citizen|Partner|Dependents|Tenure Months|Phone Service|Multiple Lines|Internet Service|Online Security|Online Backup|Device Protection|Tech Support|Streaming TV|Streaming Movies|Contract      |Paperless Billing|Payment Method  |Monthly Charges|Total Charges|Churn Label|Churn Value|Churn Score|CLTV|Churn Reason                |Status ID |Quarter|Satisfaction Score|Customer Status|Churn Category|CustomerGroup           |IsChurned|TenureGroup|MonthlyChargesRange|InvitationSource|ReferralCustomerID|\n",
            "+----------+-----+-------------+----------+-----------+--------+----------------------+---------+-----------+------+--------------+-------+----------+-------------+-------------+--------------+----------------+---------------+-------------+-----------------+------------+------------+----------------+--------------+-----------------+----------------+---------------+-------------+-----------+-----------+-----------+----+----------------------------+----------+-------+------------------+---------------+--------------+------------------------+---------+-----------+-------------------+----------------+------------------+\n",
            "|3668-QPYBK|1    |United States|California|Los Angeles|90003   |33.964131, -118.272783|33.964131|-118.272783|Male  |No            |No     |No        |2            |Yes          |No            |DSL             |Yes            |Yes          |No               |No          |No          |No              |Month-to-month|Yes              |Mailed check    |53.85          |108.15       |Yes        |1          |86         |3239|Competitor made better offer|SUDNGT6444|Q3     |1                 |Churned        |Competitor    |Low Spend, Short Tenure |1        |0-12 Months|31-60              |referred by     |6260-XLACS        |\n",
            "|9237-HQITU|1    |United States|California|Los Angeles|90005   |34.059281, -118.30742 |34.059281|-118.30742 |Female|No            |No     |Yes       |2            |Yes          |No            |Fiber optic     |No             |No           |No               |No          |No          |No              |Month-to-month|Yes              |Electronic check|70.7           |151.65       |Yes        |1          |67         |2701|Moved                       |KZSZDV8891|Q3     |2                 |Churned        |Other         |High Spend, Short Tenure|1        |0-12 Months|61-90              |friend of       |7295-JOMMD        |\n",
            "+----------+-----+-------------+----------+-----------+--------+----------------------+---------+-----------+------+--------------+-------+----------+-------------+-------------+--------------+----------------+---------------+-------------+-----------------+------------+------------+----------------+--------------+-----------------+----------------+---------------+-------------+-----------+-----------+-----------+----+----------------------------+----------+-------+------------------+---------------+--------------+------------------------+---------+-----------+-------------------+----------------+------------------+\n",
            "only showing top 2 rows\n",
            "\n"
          ]
        }
      ]
    },
    {
      "cell_type": "code",
      "source": [
        "vertices_df = final_df.select('CustomerID', 'Gender', 'City','State').dropDuplicates().withColumnRenamed('CustomerID', 'id')\n",
        "\n",
        "# Create Edges DataFrame\n",
        "edges_df = final_df.select('CustomerID', 'ReferralCustomerID', 'InvitationSource').na.drop(subset=[\"ReferralCustomerID\"]).withColumnRenamed('CustomerID', 'src').withColumnRenamed('ReferralCustomerID', 'dst').withColumnRenamed('InvitationSource', 'relation')\n",
        "\n",
        "# Paths for saving the CSV files\n",
        "vertices_file_path = '/content/drive/My Drive/Colab Notebooks/vertices'\n",
        "edges_file_path = '/content/drive/My Drive/Colab Notebooks/edges'\n",
        "\n",
        "# Save to CSV\n",
        "vertices_df.write.csv(vertices_file_path, header=True, mode='overwrite')\n",
        "edges_df.write.csv(edges_file_path, header=True, mode='overwrite')\n",
        "\n"
      ],
      "metadata": {
        "id": "8ymykNw7A18w"
      },
      "execution_count": null,
      "outputs": []
    },
    {
      "cell_type": "code",
      "source": [
        "vertices = spark.read.option('header', 'true').csv('/content/drive/My Drive/Colab Notebooks/vertices/*.csv')\n",
        "edges = spark.read.option('header', 'true').csv('/content/drive/My Drive/Colab Notebooks/edges/*.csv')"
      ],
      "metadata": {
        "id": "V6OjJBw9DWH8"
      },
      "execution_count": null,
      "outputs": []
    },
    {
      "cell_type": "code",
      "source": [
        "mygraph = GraphFrame(vertices, edges)"
      ],
      "metadata": {
        "id": "g_zOf4YlDYl7",
        "colab": {
          "base_uri": "https://localhost:8080/"
        },
        "outputId": "585f226f-ea44-43f7-8825-65f1645aea3a"
      },
      "execution_count": null,
      "outputs": [
        {
          "output_type": "stream",
          "name": "stderr",
          "text": [
            "/usr/local/lib/python3.10/dist-packages/pyspark/sql/dataframe.py:168: UserWarning: DataFrame.sql_ctx is an internal property, and will be removed in future releases. Use DataFrame.sparkSession instead.\n",
            "  warnings.warn(\n"
          ]
        }
      ]
    },
    {
      "cell_type": "markdown",
      "source": [
        "**Who are the top influencers in retaining customers?**"
      ],
      "metadata": {
        "id": "g-dvUD5cIGzt"
      }
    },
    {
      "cell_type": "code",
      "source": [
        "edges.columns"
      ],
      "metadata": {
        "id": "UheHGolVIvnT",
        "colab": {
          "base_uri": "https://localhost:8080/"
        },
        "outputId": "5f08f7c7-2333-40ae-9f94-e0c74c9411bd"
      },
      "execution_count": null,
      "outputs": [
        {
          "output_type": "execute_result",
          "data": {
            "text/plain": [
              "['src', 'dst', 'relation']"
            ]
          },
          "metadata": {},
          "execution_count": 32
        }
      ]
    },
    {
      "cell_type": "code",
      "source": [
        "mygraph.degrees.orderBy(['degree'], ascending = [False]).show(5)"
      ],
      "metadata": {
        "id": "UlkwBCxoDe9g",
        "colab": {
          "base_uri": "https://localhost:8080/"
        },
        "outputId": "6c160e4c-6006-4a60-fddb-fb3f356cc83a"
      },
      "execution_count": null,
      "outputs": [
        {
          "output_type": "stream",
          "name": "stderr",
          "text": [
            "/usr/local/lib/python3.10/dist-packages/pyspark/sql/dataframe.py:147: UserWarning: DataFrame constructor is internal. Do not directly use it.\n",
            "  warnings.warn(\"DataFrame constructor is internal. Do not directly use it.\")\n"
          ]
        },
        {
          "output_type": "stream",
          "name": "stdout",
          "text": [
            "+----------+------+\n",
            "|        id|degree|\n",
            "+----------+------+\n",
            "|9909-IDLEK|     8|\n",
            "|8065-YKXKD|     8|\n",
            "|1265-HVPZB|     7|\n",
            "|0310-SUCIN|     7|\n",
            "|3976-BWUCK|     7|\n",
            "+----------+------+\n",
            "only showing top 5 rows\n",
            "\n"
          ]
        }
      ]
    },
    {
      "cell_type": "code",
      "source": [
        "#Displaying top-5 users having max outDegrees\n",
        "\n",
        "mygraph.outDegrees.orderBy(['outDegree'], ascending = [False]).show(5)"
      ],
      "metadata": {
        "id": "5RFVVJnyHwNF",
        "colab": {
          "base_uri": "https://localhost:8080/"
        },
        "outputId": "188d274f-59c9-443e-962f-77c43146306c"
      },
      "execution_count": null,
      "outputs": [
        {
          "output_type": "stream",
          "name": "stdout",
          "text": [
            "+----------+---------+\n",
            "|        id|outDegree|\n",
            "+----------+---------+\n",
            "|4248-QPAVC|        1|\n",
            "|0786-VSSUD|        1|\n",
            "|3692-JHONH|        1|\n",
            "|3528-HFRIQ|        1|\n",
            "|6383-ZTSIW|        1|\n",
            "+----------+---------+\n",
            "only showing top 5 rows\n",
            "\n"
          ]
        }
      ]
    },
    {
      "cell_type": "markdown",
      "source": [
        "**Observation**\n",
        "\n",
        "1. A small number of individuals have a high degree of connectivity within the network, with the top individual linked to 9 others, suggesting a few key influential customers could be important in spreading word-of-mouth information about the service.\n"
      ],
      "metadata": {
        "id": "6oSuywSNLMD2"
      }
    },
    {
      "cell_type": "markdown",
      "source": [
        "**What are the predominant sources of referral**"
      ],
      "metadata": {
        "id": "sC75SIzdJVca"
      }
    },
    {
      "cell_type": "code",
      "source": [
        "invitation_source_counts = mygraph.edges.groupBy(\"relation\").count().orderBy(\"count\", ascending=False)\n",
        "invitation_source_counts.show()"
      ],
      "metadata": {
        "id": "T9Dvn-KAIV5E",
        "colab": {
          "base_uri": "https://localhost:8080/"
        },
        "outputId": "c1cc7fe0-9887-42ee-86b0-5dec6bc92574"
      },
      "execution_count": null,
      "outputs": [
        {
          "output_type": "stream",
          "name": "stdout",
          "text": [
            "+--------------------+-----+\n",
            "|            relation|count|\n",
            "+--------------------+-----+\n",
            "|         referred by| 1433|\n",
            "|           friend of| 1426|\n",
            "|   promotional offer| 1416|\n",
            "|merchant collabor...| 1394|\n",
            "|    family member of| 1374|\n",
            "+--------------------+-----+\n",
            "\n"
          ]
        }
      ]
    },
    {
      "cell_type": "markdown",
      "source": [
        "**Inference:**\n",
        "\n",
        "1. The most common source of referrals is from \"referred by,\" suggesting that existing customers' referral a significant role in attracting new customers.\n",
        "\n",
        "**Recommedation:**  \n",
        "\n",
        "The company should further incentivize referrals, which appear to be the leading source, also exploring ways to enhance the \"referred by\" method."
      ],
      "metadata": {
        "id": "FKyTivt_K9ET"
      }
    },
    {
      "cell_type": "markdown",
      "source": [
        "**How does the source of invitation influence the churn rate among customers**\n"
      ],
      "metadata": {
        "id": "zr8PD775KWip"
      }
    },
    {
      "cell_type": "code",
      "source": [
        "from pyspark.sql.functions import avg\n",
        "edges_with_churn = mygraph.edges.join(final_df, mygraph.edges.dst == final_df.CustomerID)\n",
        "churn_rate_by_source = edges_with_churn.groupBy(\"relation\").agg(\n",
        "    (avg(\"Churn Value\") * 100).alias(\"ChurnRate\")\n",
        ").orderBy(\"ChurnRate\", ascending=False)\n",
        "\n",
        "churn_rate_by_source.show()"
      ],
      "metadata": {
        "id": "XlRmECIcJUf0",
        "colab": {
          "base_uri": "https://localhost:8080/"
        },
        "outputId": "00234f7c-9e0e-40e5-a8da-b44e9f6328ba"
      },
      "execution_count": null,
      "outputs": [
        {
          "output_type": "stream",
          "name": "stdout",
          "text": [
            "+--------------------+------------------+\n",
            "|            relation|         ChurnRate|\n",
            "+--------------------+------------------+\n",
            "|merchant collabor...|28.766140602582496|\n",
            "|         referred by|27.704117236566645|\n",
            "|    family member of|27.219796215429405|\n",
            "|   promotional offer|26.624293785310734|\n",
            "|           friend of| 25.94670406732118|\n",
            "+--------------------+------------------+\n",
            "\n"
          ]
        }
      ]
    },
    {
      "cell_type": "markdown",
      "source": [
        "**Inference:**\n",
        "\n",
        "1. The churn rate varies by invitation source, suggesting that how customers are referred to the service has an impact on their likelihood to churn.\n",
        "2. \"Merchant collaboration\" is the referral source with the highest churn rate, while \"friend of\" has the lowest, indicating that customers referred through merchant collaborations might be less satisfied or have different expectations than those referred by friends.\n",
        "\n",
        "**Recommendation:**\n",
        "\n",
        "1. The company should conduct a thorough evaluation of their merchant collaboration programs to identify and address any factors contributing to higher churn rates."
      ],
      "metadata": {
        "id": "kU4e1CI6Ko-d"
      }
    },
    {
      "cell_type": "code",
      "source": [
        "final_df.printSchema()"
      ],
      "metadata": {
        "id": "68BuiWU3Jlfc",
        "colab": {
          "base_uri": "https://localhost:8080/"
        },
        "outputId": "a8867aa2-16df-42d2-bf20-cfaee1bbbd63"
      },
      "execution_count": null,
      "outputs": [
        {
          "output_type": "stream",
          "name": "stdout",
          "text": [
            "root\n",
            " |-- CustomerID: string (nullable = true)\n",
            " |-- Count: integer (nullable = true)\n",
            " |-- Country: string (nullable = true)\n",
            " |-- State: string (nullable = true)\n",
            " |-- City: string (nullable = true)\n",
            " |-- Zip Code: integer (nullable = true)\n",
            " |-- Lat Long: string (nullable = true)\n",
            " |-- Latitude: double (nullable = true)\n",
            " |-- Longitude: double (nullable = true)\n",
            " |-- Gender: string (nullable = true)\n",
            " |-- Senior Citizen: string (nullable = true)\n",
            " |-- Partner: string (nullable = true)\n",
            " |-- Dependents: string (nullable = true)\n",
            " |-- Tenure Months: integer (nullable = true)\n",
            " |-- Phone Service: string (nullable = true)\n",
            " |-- Multiple Lines: string (nullable = true)\n",
            " |-- Internet Service: string (nullable = true)\n",
            " |-- Online Security: string (nullable = true)\n",
            " |-- Online Backup: string (nullable = true)\n",
            " |-- Device Protection: string (nullable = true)\n",
            " |-- Tech Support: string (nullable = true)\n",
            " |-- Streaming TV: string (nullable = true)\n",
            " |-- Streaming Movies: string (nullable = true)\n",
            " |-- Contract: string (nullable = true)\n",
            " |-- Paperless Billing: string (nullable = true)\n",
            " |-- Payment Method: string (nullable = true)\n",
            " |-- Monthly Charges: double (nullable = true)\n",
            " |-- Total Charges: string (nullable = true)\n",
            " |-- Churn Label: string (nullable = true)\n",
            " |-- Churn Value: integer (nullable = true)\n",
            " |-- Churn Score: integer (nullable = true)\n",
            " |-- CLTV: integer (nullable = true)\n",
            " |-- Churn Reason: string (nullable = true)\n",
            " |-- Status ID: string (nullable = true)\n",
            " |-- Quarter: string (nullable = true)\n",
            " |-- Satisfaction Score: integer (nullable = true)\n",
            " |-- Customer Status: string (nullable = true)\n",
            " |-- Churn Category: string (nullable = true)\n",
            " |-- CustomerGroup: string (nullable = false)\n",
            " |-- IsChurned: integer (nullable = false)\n",
            " |-- TenureGroup: string (nullable = false)\n",
            " |-- MonthlyChargesRange: string (nullable = false)\n",
            " |-- InvitationSource: string (nullable = true)\n",
            " |-- ReferralCustomerID: string (nullable = true)\n",
            "\n"
          ]
        }
      ]
    },
    {
      "cell_type": "markdown",
      "source": [
        "Converting numeric columns to float type as they are in string type in the dataset"
      ],
      "metadata": {
        "id": "nTldAc1qnmc2"
      }
    },
    {
      "cell_type": "code",
      "source": [
        "from pyspark.sql.types import FloatType\n",
        "final_df = final_df.withColumn(\"Total Charges\", final_df[\"Total Charges\"].cast(FloatType()))\n",
        "final_df = final_df.withColumn(\"Tenure Months\", final_df[\"Tenure Months\"].cast(FloatType()))\n",
        "final_df = final_df.withColumn(\"Monthly Charges\", final_df[\"Monthly Charges\"].cast(FloatType()))"
      ],
      "metadata": {
        "id": "uynoaENdKqPL"
      },
      "execution_count": null,
      "outputs": []
    },
    {
      "cell_type": "markdown",
      "source": [
        "Imputing values in Total Charges, Monthly Charges and Tenure Months with their corresponding mean values."
      ],
      "metadata": {
        "id": "fq3WChYpoDuL"
      }
    },
    {
      "cell_type": "code",
      "source": [
        "#Missing Value Imputation\n",
        "from pyspark.ml.feature import Imputer\n",
        "#Imputation using Mean\n",
        "imputer=Imputer(strategy='mean',inputCol=(\"Total Charges\"), outputCol=(\"Total Charges\"))\n",
        "final_df=imputer.fit(final_df).transform(final_df)\n",
        "final_df.show()\n",
        "\n",
        "#Imputation using Mean\n",
        "imputer=Imputer(strategy='mean',inputCol=(\"Monthly Charges\"), outputCol=(\"Monthly Charges\"))\n",
        "final_df=imputer.fit(final_df).transform(final_df)\n",
        "final_df.show()\n",
        "\n",
        "#Imputation using Mean\n",
        "imputer=Imputer(strategy='mean',inputCol=(\"Tenure Months\"), outputCol=(\"Tenure Months\"))\n",
        "final_df=imputer.fit(final_df).transform(final_df)\n",
        "final_df.show()"
      ],
      "metadata": {
        "id": "F0WQFZiJCg3C",
        "colab": {
          "base_uri": "https://localhost:8080/"
        },
        "outputId": "c9f8e15c-9fa7-4776-81b9-ca2656f1b00e"
      },
      "execution_count": null,
      "outputs": [
        {
          "output_type": "stream",
          "name": "stdout",
          "text": [
            "+----------+-----+-------------+----------+---------------+--------+--------------------+---------+-----------+------+--------------+-------+----------+-------------+-------------+----------------+----------------+-------------------+-------------------+-------------------+-------------------+-------------------+-------------------+--------------+-----------------+--------------------+---------------+-------------+-----------+-----------+-----------+----+--------------------+----------+-------+------------------+---------------+--------------+--------------------+---------+------------+-------------------+--------------------+------------------+\n",
            "|CustomerID|Count|      Country|     State|           City|Zip Code|            Lat Long| Latitude|  Longitude|Gender|Senior Citizen|Partner|Dependents|Tenure Months|Phone Service|  Multiple Lines|Internet Service|    Online Security|      Online Backup|  Device Protection|       Tech Support|       Streaming TV|   Streaming Movies|      Contract|Paperless Billing|      Payment Method|Monthly Charges|Total Charges|Churn Label|Churn Value|Churn Score|CLTV|        Churn Reason| Status ID|Quarter|Satisfaction Score|Customer Status|Churn Category|       CustomerGroup|IsChurned| TenureGroup|MonthlyChargesRange|    InvitationSource|ReferralCustomerID|\n",
            "+----------+-----+-------------+----------+---------------+--------+--------------------+---------+-----------+------+--------------+-------+----------+-------------+-------------+----------------+----------------+-------------------+-------------------+-------------------+-------------------+-------------------+-------------------+--------------+-----------------+--------------------+---------------+-------------+-----------+-----------+-----------+----+--------------------+----------+-------+------------------+---------------+--------------+--------------------+---------+------------+-------------------+--------------------+------------------+\n",
            "|3668-QPYBK|    1|United States|California|    Los Angeles|   90003|33.964131, -118.2...|33.964131|-118.272783|  Male|            No|     No|        No|          2.0|          Yes|              No|             DSL|                Yes|                Yes|                 No|                 No|                 No|                 No|Month-to-month|              Yes|        Mailed check|          53.85|       108.15|        Yes|          1|         86|3239|Competitor made b...|SUDNGT6444|     Q3|                 1|        Churned|    Competitor|Low Spend, Short ...|        1| 0-12 Months|              31-60|         referred by|        6260-XLACS|\n",
            "|9237-HQITU|    1|United States|California|    Los Angeles|   90005|34.059281, -118.3...|34.059281| -118.30742|Female|            No|     No|       Yes|          2.0|          Yes|              No|     Fiber optic|                 No|                 No|                 No|                 No|                 No|                 No|Month-to-month|              Yes|    Electronic check|           70.7|       151.65|        Yes|          1|         67|2701|               Moved|KZSZDV8891|     Q3|                 2|        Churned|         Other|High Spend, Short...|        1| 0-12 Months|              61-90|           friend of|        7295-JOMMD|\n",
            "|9305-CDSKC|    1|United States|California|    Los Angeles|   90006|34.048013, -118.2...|34.048013|-118.293953|Female|            No|     No|       Yes|          8.0|          Yes|             Yes|     Fiber optic|                 No|                 No|                Yes|                 No|                Yes|                Yes|Month-to-month|              Yes|    Electronic check|          99.65|        820.5|        Yes|          1|         86|5372|               Moved|EPTIUU1269|     Q3|                 3|        Churned|         Other|High Spend, Short...|        1| 0-12 Months|            Over 90|    family member of|        5499-ECUTN|\n",
            "|7892-POOKP|    1|United States|California|    Los Angeles|   90010|34.062125, -118.3...|34.062125|-118.315709|Female|            No|    Yes|       Yes|         28.0|          Yes|             Yes|     Fiber optic|                 No|                 No|                Yes|                Yes|                Yes|                Yes|Month-to-month|              Yes|    Electronic check|          104.8|      3046.05|        Yes|          1|         84|5003|               Moved|PAJIVH8196|     Q3|                 3|        Churned|         Other|High Spend, Short...|        1|25-36 Months|            Over 90|    family member of|        2235-DWLJU|\n",
            "|0280-XJGEX|    1|United States|California|    Los Angeles|   90015|34.039224, -118.2...|34.039224|-118.266293|  Male|            No|     No|       Yes|         49.0|          Yes|             Yes|     Fiber optic|                 No|                Yes|                Yes|                 No|                Yes|                Yes|Month-to-month|              Yes|Bank transfer (au...|          103.7|       5036.3|        Yes|          1|         89|5340|Competitor had be...|RXFOMV1173|     Q3|                 1|        Churned|    Competitor|High Spend, Long ...|        1|49-60 Months|            Over 90|merchant collabor...|        3658-QQJYD|\n",
            "|4190-MFLUW|    1|United States|California|    Los Angeles|   90020|34.066367, -118.3...|34.066367|-118.309868|Female|            No|    Yes|        No|         10.0|          Yes|              No|             DSL|                 No|                 No|                Yes|                Yes|                 No|                 No|Month-to-month|               No|Credit card (auto...|           55.2|       528.35|        Yes|          1|         78|5925|Competitor offere...|JFOFHU2246|     Q3|                 1|        Churned|    Competitor|Low Spend, Short ...|        1| 0-12 Months|              31-60|merchant collabor...|        9095-HFAFX|\n",
            "|8779-QRDMV|    1|United States|California|    Los Angeles|   90022|34.02381, -118.15...| 34.02381|-118.156582|  Male|           Yes|     No|        No|          1.0|           No|No phone service|             DSL|                 No|                 No|                Yes|                 No|                 No|                Yes|Month-to-month|              Yes|    Electronic check|          39.65|        39.65|        Yes|          1|        100|5433|Competitor offere...|SWSORB1252|     Q3|                 3|        Churned|    Competitor|Low Spend, Short ...|        1| 0-12 Months|              31-60|    family member of|        2956-GGUCQ|\n",
            "|1066-JKSGK|    1|United States|California|    Los Angeles|   90024|34.066303, -118.4...|34.066303|-118.435479|  Male|            No|     No|        No|          1.0|          Yes|              No|              No|No internet service|No internet service|No internet service|No internet service|No internet service|No internet service|Month-to-month|               No|        Mailed check|          20.15|        20.15|        Yes|          1|         92|4832|Competitor made b...|LXIWPV2763|     Q3|                 1|        Churned|    Competitor|Low Spend, Short ...|        1| 0-12 Months|               0-30|           friend of|        0247-SLUJI|\n",
            "|6467-CHFZW|    1|United States|California|    Los Angeles|   90028|34.099869, -118.3...|34.099869|-118.326843|  Male|            No|    Yes|       Yes|         47.0|          Yes|             Yes|     Fiber optic|                 No|                Yes|                 No|                 No|                Yes|                Yes|Month-to-month|              Yes|    Electronic check|          99.35|      4749.15|        Yes|          1|         77|5789|Competitor had be...|SPVBUS9328|     Q3|                 1|        Churned|    Competitor|High Spend, Long ...|        1|37-48 Months|            Over 90|merchant collabor...|        8218-FFJDS|\n",
            "|8665-UTDHZ|    1|United States|California|    Los Angeles|   90029|34.089953, -118.2...|34.089953|-118.294824|  Male|            No|    Yes|        No|          1.0|           No|No phone service|             DSL|                 No|                Yes|                 No|                 No|                 No|                 No|Month-to-month|               No|    Electronic check|           30.2|         30.2|        Yes|          1|         97|2915|Competitor had be...|ZUPEKW1663|     Q3|                 1|        Churned|    Competitor|Low Spend, Short ...|        1| 0-12 Months|              31-60|merchant collabor...|        0363-QJVFX|\n",
            "|8773-HHUOZ|    1|United States|California|    Los Angeles|   90032|34.078821, -118.1...|34.078821|-118.177576|Female|            No|     No|        No|         17.0|          Yes|              No|             DSL|                 No|                 No|                 No|                 No|                Yes|                Yes|Month-to-month|              Yes|        Mailed check|           64.7|       1093.1|        Yes|          1|         74|3022|Competitor offere...|NJDJEF5327|     Q3|                 1|        Churned|    Competitor|Low Spend, Short ...|        1|13-24 Months|              61-90|    family member of|        7717-BICXI|\n",
            "|6047-YHPVI|    1|United States|California|    Los Angeles|   90039|34.110845, -118.2...|34.110845|-118.259595|  Male|            No|     No|       Yes|          5.0|          Yes|              No|     Fiber optic|                 No|                 No|                 No|                 No|                 No|                 No|Month-to-month|              Yes|    Electronic check|           69.7|        316.9|        Yes|          1|         66|2454|Competitor offere...|QKTHZB9414|     Q3|                 1|        Churned|    Competitor|Low Spend, Short ...|        1| 0-12 Months|              61-90|   promotional offer|        1559-DTODC|\n",
            "|5380-WJKOV|    1|United States|California|    Los Angeles|   90041|34.137412, -118.2...|34.137412|-118.207607|  Male|            No|     No|       Yes|         34.0|          Yes|             Yes|     Fiber optic|                 No|                Yes|                Yes|                 No|                Yes|                Yes|Month-to-month|              Yes|    Electronic check|         106.35|      3549.25|        Yes|          1|         65|2941|Competitor offere...|OJJREZ1257|     Q3|                 2|        Churned|    Competitor|High Spend, Long ...|        1|25-36 Months|            Over 90|         referred by|        5204-HMGYF|\n",
            "|8168-UQWWF|    1|United States|California|    Los Angeles|   90042|34.11572, -118.19...| 34.11572|-118.192754|Female|            No|     No|       Yes|         11.0|          Yes|             Yes|     Fiber optic|                 No|                 No|                Yes|                 No|                Yes|                Yes|Month-to-month|              Yes|Bank transfer (au...|          97.85|       1105.4|        Yes|          1|         70|5674|Competitor offere...|WOJGFP6376|     Q3|                 3|        Churned|    Competitor|High Spend, Short...|        1| 0-12 Months|            Over 90|merchant collabor...|        4625-EWPTF|\n",
            "|7760-OYPDY|    1|United States|California|    Los Angeles|   90056|33.987945, -118.3...|33.987945|-118.370442|Female|            No|     No|       Yes|          2.0|          Yes|              No|     Fiber optic|                 No|                 No|                 No|                 No|                Yes|                 No|Month-to-month|              Yes|    Electronic check|          80.65|       144.15|        Yes|          1|         90|5586|Competitor offere...|IFPGRC4891|     Q3|                 1|        Churned|    Competitor|High Spend, Short...|        1| 0-12 Months|              61-90|merchant collabor...|        8883-ANODQ|\n",
            "|9420-LOJKX|    1|United States|California|    Los Angeles|   90061|33.92128, -118.27...| 33.92128|-118.274186|Female|            No|     No|       Yes|         15.0|          Yes|              No|     Fiber optic|                Yes|                Yes|                 No|                 No|                Yes|                Yes|Month-to-month|              Yes|Credit card (auto...|           99.1|       1426.4|        Yes|          1|         82|2966|Competitor offere...|HQOFFH8655|     Q3|                 1|        Churned|    Competitor|High Spend, Short...|        1|13-24 Months|            Over 90|           friend of|        5959-BELXA|\n",
            "|7495-OOKFY|    1|United States|California|    Los Angeles|   90063|34.044271, -118.1...|34.044271|-118.185237|Female|           Yes|    Yes|       Yes|          8.0|          Yes|             Yes|     Fiber optic|                 No|                Yes|                 No|                 No|                 No|                 No|Month-to-month|              Yes|Credit card (auto...|          80.65|        633.3|        Yes|          1|         69|5302|Competitor made b...|SNAEQA8572|     Q3|                 3|        Churned|    Competitor|High Spend, Short...|        1| 0-12 Months|              61-90|    family member of|        3207-OYBWH|\n",
            "|1658-BYGOY|    1|United States|California|    Los Angeles|   90065|34.108833, -118.2...|34.108833|-118.229715|  Male|           Yes|     No|       Yes|         18.0|          Yes|             Yes|     Fiber optic|                 No|                 No|                 No|                 No|                Yes|                Yes|Month-to-month|              Yes|    Electronic check|          95.45|      1752.55|        Yes|          1|         81|3179|Competitor made b...|LMBQNN3714|     Q3|                 2|        Churned|    Competitor|High Spend, Short...|        1|13-24 Months|            Over 90|         referred by|        1335-MXCSE|\n",
            "|5698-BQJOH|    1|United States|California|  Beverly Hills|   90211|34.063947, -118.3...|34.063947|-118.383001|Female|            No|     No|       Yes|          9.0|          Yes|             Yes|     Fiber optic|                 No|                 No|                 No|                 No|                Yes|                Yes|Month-to-month|               No|    Electronic check|           94.4|       857.25|        Yes|          1|         96|5571|      Price too high|FUWKWM7892|     Q3|                 3|        Churned|         Price|High Spend, Short...|        1| 0-12 Months|            Over 90|         referred by|        3644-QXEHN|\n",
            "|5919-TMRGD|    1|United States|California|Huntington Park|   90255|33.97803, -118.21...| 33.97803|-118.217141|Female|            No|     No|       Yes|          1.0|          Yes|              No|     Fiber optic|                 No|                 No|                 No|                 No|                Yes|                 No|Month-to-month|              Yes|    Electronic check|          79.35|        79.35|        Yes|          1|         87|2483|Product dissatisf...|MDOAVU2152|     Q3|                 1|        Churned|    Competitor|High Spend, Short...|        1| 0-12 Months|              61-90|   promotional offer|        6284-AHOOQ|\n",
            "+----------+-----+-------------+----------+---------------+--------+--------------------+---------+-----------+------+--------------+-------+----------+-------------+-------------+----------------+----------------+-------------------+-------------------+-------------------+-------------------+-------------------+-------------------+--------------+-----------------+--------------------+---------------+-------------+-----------+-----------+-----------+----+--------------------+----------+-------+------------------+---------------+--------------+--------------------+---------+------------+-------------------+--------------------+------------------+\n",
            "only showing top 20 rows\n",
            "\n",
            "+----------+-----+-------------+----------+---------------+--------+--------------------+---------+-----------+------+--------------+-------+----------+-------------+-------------+----------------+----------------+-------------------+-------------------+-------------------+-------------------+-------------------+-------------------+--------------+-----------------+--------------------+---------------+-------------+-----------+-----------+-----------+----+--------------------+----------+-------+------------------+---------------+--------------+--------------------+---------+------------+-------------------+--------------------+------------------+\n",
            "|CustomerID|Count|      Country|     State|           City|Zip Code|            Lat Long| Latitude|  Longitude|Gender|Senior Citizen|Partner|Dependents|Tenure Months|Phone Service|  Multiple Lines|Internet Service|    Online Security|      Online Backup|  Device Protection|       Tech Support|       Streaming TV|   Streaming Movies|      Contract|Paperless Billing|      Payment Method|Monthly Charges|Total Charges|Churn Label|Churn Value|Churn Score|CLTV|        Churn Reason| Status ID|Quarter|Satisfaction Score|Customer Status|Churn Category|       CustomerGroup|IsChurned| TenureGroup|MonthlyChargesRange|    InvitationSource|ReferralCustomerID|\n",
            "+----------+-----+-------------+----------+---------------+--------+--------------------+---------+-----------+------+--------------+-------+----------+-------------+-------------+----------------+----------------+-------------------+-------------------+-------------------+-------------------+-------------------+-------------------+--------------+-----------------+--------------------+---------------+-------------+-----------+-----------+-----------+----+--------------------+----------+-------+------------------+---------------+--------------+--------------------+---------+------------+-------------------+--------------------+------------------+\n",
            "|3668-QPYBK|    1|United States|California|    Los Angeles|   90003|33.964131, -118.2...|33.964131|-118.272783|  Male|            No|     No|        No|          2.0|          Yes|              No|             DSL|                Yes|                Yes|                 No|                 No|                 No|                 No|Month-to-month|              Yes|        Mailed check|          53.85|       108.15|        Yes|          1|         86|3239|Competitor made b...|SUDNGT6444|     Q3|                 1|        Churned|    Competitor|Low Spend, Short ...|        1| 0-12 Months|              31-60|         referred by|        6260-XLACS|\n",
            "|9237-HQITU|    1|United States|California|    Los Angeles|   90005|34.059281, -118.3...|34.059281| -118.30742|Female|            No|     No|       Yes|          2.0|          Yes|              No|     Fiber optic|                 No|                 No|                 No|                 No|                 No|                 No|Month-to-month|              Yes|    Electronic check|           70.7|       151.65|        Yes|          1|         67|2701|               Moved|KZSZDV8891|     Q3|                 2|        Churned|         Other|High Spend, Short...|        1| 0-12 Months|              61-90|           friend of|        7295-JOMMD|\n",
            "|9305-CDSKC|    1|United States|California|    Los Angeles|   90006|34.048013, -118.2...|34.048013|-118.293953|Female|            No|     No|       Yes|          8.0|          Yes|             Yes|     Fiber optic|                 No|                 No|                Yes|                 No|                Yes|                Yes|Month-to-month|              Yes|    Electronic check|          99.65|        820.5|        Yes|          1|         86|5372|               Moved|EPTIUU1269|     Q3|                 3|        Churned|         Other|High Spend, Short...|        1| 0-12 Months|            Over 90|    family member of|        5499-ECUTN|\n",
            "|7892-POOKP|    1|United States|California|    Los Angeles|   90010|34.062125, -118.3...|34.062125|-118.315709|Female|            No|    Yes|       Yes|         28.0|          Yes|             Yes|     Fiber optic|                 No|                 No|                Yes|                Yes|                Yes|                Yes|Month-to-month|              Yes|    Electronic check|          104.8|      3046.05|        Yes|          1|         84|5003|               Moved|PAJIVH8196|     Q3|                 3|        Churned|         Other|High Spend, Short...|        1|25-36 Months|            Over 90|    family member of|        2235-DWLJU|\n",
            "|0280-XJGEX|    1|United States|California|    Los Angeles|   90015|34.039224, -118.2...|34.039224|-118.266293|  Male|            No|     No|       Yes|         49.0|          Yes|             Yes|     Fiber optic|                 No|                Yes|                Yes|                 No|                Yes|                Yes|Month-to-month|              Yes|Bank transfer (au...|          103.7|       5036.3|        Yes|          1|         89|5340|Competitor had be...|RXFOMV1173|     Q3|                 1|        Churned|    Competitor|High Spend, Long ...|        1|49-60 Months|            Over 90|merchant collabor...|        3658-QQJYD|\n",
            "|4190-MFLUW|    1|United States|California|    Los Angeles|   90020|34.066367, -118.3...|34.066367|-118.309868|Female|            No|    Yes|        No|         10.0|          Yes|              No|             DSL|                 No|                 No|                Yes|                Yes|                 No|                 No|Month-to-month|               No|Credit card (auto...|           55.2|       528.35|        Yes|          1|         78|5925|Competitor offere...|JFOFHU2246|     Q3|                 1|        Churned|    Competitor|Low Spend, Short ...|        1| 0-12 Months|              31-60|merchant collabor...|        9095-HFAFX|\n",
            "|8779-QRDMV|    1|United States|California|    Los Angeles|   90022|34.02381, -118.15...| 34.02381|-118.156582|  Male|           Yes|     No|        No|          1.0|           No|No phone service|             DSL|                 No|                 No|                Yes|                 No|                 No|                Yes|Month-to-month|              Yes|    Electronic check|          39.65|        39.65|        Yes|          1|        100|5433|Competitor offere...|SWSORB1252|     Q3|                 3|        Churned|    Competitor|Low Spend, Short ...|        1| 0-12 Months|              31-60|    family member of|        2956-GGUCQ|\n",
            "|1066-JKSGK|    1|United States|California|    Los Angeles|   90024|34.066303, -118.4...|34.066303|-118.435479|  Male|            No|     No|        No|          1.0|          Yes|              No|              No|No internet service|No internet service|No internet service|No internet service|No internet service|No internet service|Month-to-month|               No|        Mailed check|          20.15|        20.15|        Yes|          1|         92|4832|Competitor made b...|LXIWPV2763|     Q3|                 1|        Churned|    Competitor|Low Spend, Short ...|        1| 0-12 Months|               0-30|           friend of|        0247-SLUJI|\n",
            "|6467-CHFZW|    1|United States|California|    Los Angeles|   90028|34.099869, -118.3...|34.099869|-118.326843|  Male|            No|    Yes|       Yes|         47.0|          Yes|             Yes|     Fiber optic|                 No|                Yes|                 No|                 No|                Yes|                Yes|Month-to-month|              Yes|    Electronic check|          99.35|      4749.15|        Yes|          1|         77|5789|Competitor had be...|SPVBUS9328|     Q3|                 1|        Churned|    Competitor|High Spend, Long ...|        1|37-48 Months|            Over 90|merchant collabor...|        8218-FFJDS|\n",
            "|8665-UTDHZ|    1|United States|California|    Los Angeles|   90029|34.089953, -118.2...|34.089953|-118.294824|  Male|            No|    Yes|        No|          1.0|           No|No phone service|             DSL|                 No|                Yes|                 No|                 No|                 No|                 No|Month-to-month|               No|    Electronic check|           30.2|         30.2|        Yes|          1|         97|2915|Competitor had be...|ZUPEKW1663|     Q3|                 1|        Churned|    Competitor|Low Spend, Short ...|        1| 0-12 Months|              31-60|merchant collabor...|        0363-QJVFX|\n",
            "|8773-HHUOZ|    1|United States|California|    Los Angeles|   90032|34.078821, -118.1...|34.078821|-118.177576|Female|            No|     No|        No|         17.0|          Yes|              No|             DSL|                 No|                 No|                 No|                 No|                Yes|                Yes|Month-to-month|              Yes|        Mailed check|           64.7|       1093.1|        Yes|          1|         74|3022|Competitor offere...|NJDJEF5327|     Q3|                 1|        Churned|    Competitor|Low Spend, Short ...|        1|13-24 Months|              61-90|    family member of|        7717-BICXI|\n",
            "|6047-YHPVI|    1|United States|California|    Los Angeles|   90039|34.110845, -118.2...|34.110845|-118.259595|  Male|            No|     No|       Yes|          5.0|          Yes|              No|     Fiber optic|                 No|                 No|                 No|                 No|                 No|                 No|Month-to-month|              Yes|    Electronic check|           69.7|        316.9|        Yes|          1|         66|2454|Competitor offere...|QKTHZB9414|     Q3|                 1|        Churned|    Competitor|Low Spend, Short ...|        1| 0-12 Months|              61-90|   promotional offer|        1559-DTODC|\n",
            "|5380-WJKOV|    1|United States|California|    Los Angeles|   90041|34.137412, -118.2...|34.137412|-118.207607|  Male|            No|     No|       Yes|         34.0|          Yes|             Yes|     Fiber optic|                 No|                Yes|                Yes|                 No|                Yes|                Yes|Month-to-month|              Yes|    Electronic check|         106.35|      3549.25|        Yes|          1|         65|2941|Competitor offere...|OJJREZ1257|     Q3|                 2|        Churned|    Competitor|High Spend, Long ...|        1|25-36 Months|            Over 90|         referred by|        5204-HMGYF|\n",
            "|8168-UQWWF|    1|United States|California|    Los Angeles|   90042|34.11572, -118.19...| 34.11572|-118.192754|Female|            No|     No|       Yes|         11.0|          Yes|             Yes|     Fiber optic|                 No|                 No|                Yes|                 No|                Yes|                Yes|Month-to-month|              Yes|Bank transfer (au...|          97.85|       1105.4|        Yes|          1|         70|5674|Competitor offere...|WOJGFP6376|     Q3|                 3|        Churned|    Competitor|High Spend, Short...|        1| 0-12 Months|            Over 90|merchant collabor...|        4625-EWPTF|\n",
            "|7760-OYPDY|    1|United States|California|    Los Angeles|   90056|33.987945, -118.3...|33.987945|-118.370442|Female|            No|     No|       Yes|          2.0|          Yes|              No|     Fiber optic|                 No|                 No|                 No|                 No|                Yes|                 No|Month-to-month|              Yes|    Electronic check|          80.65|       144.15|        Yes|          1|         90|5586|Competitor offere...|IFPGRC4891|     Q3|                 1|        Churned|    Competitor|High Spend, Short...|        1| 0-12 Months|              61-90|merchant collabor...|        8883-ANODQ|\n",
            "|9420-LOJKX|    1|United States|California|    Los Angeles|   90061|33.92128, -118.27...| 33.92128|-118.274186|Female|            No|     No|       Yes|         15.0|          Yes|              No|     Fiber optic|                Yes|                Yes|                 No|                 No|                Yes|                Yes|Month-to-month|              Yes|Credit card (auto...|           99.1|       1426.4|        Yes|          1|         82|2966|Competitor offere...|HQOFFH8655|     Q3|                 1|        Churned|    Competitor|High Spend, Short...|        1|13-24 Months|            Over 90|           friend of|        5959-BELXA|\n",
            "|7495-OOKFY|    1|United States|California|    Los Angeles|   90063|34.044271, -118.1...|34.044271|-118.185237|Female|           Yes|    Yes|       Yes|          8.0|          Yes|             Yes|     Fiber optic|                 No|                Yes|                 No|                 No|                 No|                 No|Month-to-month|              Yes|Credit card (auto...|          80.65|        633.3|        Yes|          1|         69|5302|Competitor made b...|SNAEQA8572|     Q3|                 3|        Churned|    Competitor|High Spend, Short...|        1| 0-12 Months|              61-90|    family member of|        3207-OYBWH|\n",
            "|1658-BYGOY|    1|United States|California|    Los Angeles|   90065|34.108833, -118.2...|34.108833|-118.229715|  Male|           Yes|     No|       Yes|         18.0|          Yes|             Yes|     Fiber optic|                 No|                 No|                 No|                 No|                Yes|                Yes|Month-to-month|              Yes|    Electronic check|          95.45|      1752.55|        Yes|          1|         81|3179|Competitor made b...|LMBQNN3714|     Q3|                 2|        Churned|    Competitor|High Spend, Short...|        1|13-24 Months|            Over 90|         referred by|        1335-MXCSE|\n",
            "|5698-BQJOH|    1|United States|California|  Beverly Hills|   90211|34.063947, -118.3...|34.063947|-118.383001|Female|            No|     No|       Yes|          9.0|          Yes|             Yes|     Fiber optic|                 No|                 No|                 No|                 No|                Yes|                Yes|Month-to-month|               No|    Electronic check|           94.4|       857.25|        Yes|          1|         96|5571|      Price too high|FUWKWM7892|     Q3|                 3|        Churned|         Price|High Spend, Short...|        1| 0-12 Months|            Over 90|         referred by|        3644-QXEHN|\n",
            "|5919-TMRGD|    1|United States|California|Huntington Park|   90255|33.97803, -118.21...| 33.97803|-118.217141|Female|            No|     No|       Yes|          1.0|          Yes|              No|     Fiber optic|                 No|                 No|                 No|                 No|                Yes|                 No|Month-to-month|              Yes|    Electronic check|          79.35|        79.35|        Yes|          1|         87|2483|Product dissatisf...|MDOAVU2152|     Q3|                 1|        Churned|    Competitor|High Spend, Short...|        1| 0-12 Months|              61-90|   promotional offer|        6284-AHOOQ|\n",
            "+----------+-----+-------------+----------+---------------+--------+--------------------+---------+-----------+------+--------------+-------+----------+-------------+-------------+----------------+----------------+-------------------+-------------------+-------------------+-------------------+-------------------+-------------------+--------------+-----------------+--------------------+---------------+-------------+-----------+-----------+-----------+----+--------------------+----------+-------+------------------+---------------+--------------+--------------------+---------+------------+-------------------+--------------------+------------------+\n",
            "only showing top 20 rows\n",
            "\n",
            "+----------+-----+-------------+----------+---------------+--------+--------------------+---------+-----------+------+--------------+-------+----------+-------------+-------------+----------------+----------------+-------------------+-------------------+-------------------+-------------------+-------------------+-------------------+--------------+-----------------+--------------------+---------------+-------------+-----------+-----------+-----------+----+--------------------+----------+-------+------------------+---------------+--------------+--------------------+---------+------------+-------------------+--------------------+------------------+\n",
            "|CustomerID|Count|      Country|     State|           City|Zip Code|            Lat Long| Latitude|  Longitude|Gender|Senior Citizen|Partner|Dependents|Tenure Months|Phone Service|  Multiple Lines|Internet Service|    Online Security|      Online Backup|  Device Protection|       Tech Support|       Streaming TV|   Streaming Movies|      Contract|Paperless Billing|      Payment Method|Monthly Charges|Total Charges|Churn Label|Churn Value|Churn Score|CLTV|        Churn Reason| Status ID|Quarter|Satisfaction Score|Customer Status|Churn Category|       CustomerGroup|IsChurned| TenureGroup|MonthlyChargesRange|    InvitationSource|ReferralCustomerID|\n",
            "+----------+-----+-------------+----------+---------------+--------+--------------------+---------+-----------+------+--------------+-------+----------+-------------+-------------+----------------+----------------+-------------------+-------------------+-------------------+-------------------+-------------------+-------------------+--------------+-----------------+--------------------+---------------+-------------+-----------+-----------+-----------+----+--------------------+----------+-------+------------------+---------------+--------------+--------------------+---------+------------+-------------------+--------------------+------------------+\n",
            "|3668-QPYBK|    1|United States|California|    Los Angeles|   90003|33.964131, -118.2...|33.964131|-118.272783|  Male|            No|     No|        No|          2.0|          Yes|              No|             DSL|                Yes|                Yes|                 No|                 No|                 No|                 No|Month-to-month|              Yes|        Mailed check|          53.85|       108.15|        Yes|          1|         86|3239|Competitor made b...|SUDNGT6444|     Q3|                 1|        Churned|    Competitor|Low Spend, Short ...|        1| 0-12 Months|              31-60|         referred by|        6260-XLACS|\n",
            "|9237-HQITU|    1|United States|California|    Los Angeles|   90005|34.059281, -118.3...|34.059281| -118.30742|Female|            No|     No|       Yes|          2.0|          Yes|              No|     Fiber optic|                 No|                 No|                 No|                 No|                 No|                 No|Month-to-month|              Yes|    Electronic check|           70.7|       151.65|        Yes|          1|         67|2701|               Moved|KZSZDV8891|     Q3|                 2|        Churned|         Other|High Spend, Short...|        1| 0-12 Months|              61-90|           friend of|        7295-JOMMD|\n",
            "|9305-CDSKC|    1|United States|California|    Los Angeles|   90006|34.048013, -118.2...|34.048013|-118.293953|Female|            No|     No|       Yes|          8.0|          Yes|             Yes|     Fiber optic|                 No|                 No|                Yes|                 No|                Yes|                Yes|Month-to-month|              Yes|    Electronic check|          99.65|        820.5|        Yes|          1|         86|5372|               Moved|EPTIUU1269|     Q3|                 3|        Churned|         Other|High Spend, Short...|        1| 0-12 Months|            Over 90|    family member of|        5499-ECUTN|\n",
            "|7892-POOKP|    1|United States|California|    Los Angeles|   90010|34.062125, -118.3...|34.062125|-118.315709|Female|            No|    Yes|       Yes|         28.0|          Yes|             Yes|     Fiber optic|                 No|                 No|                Yes|                Yes|                Yes|                Yes|Month-to-month|              Yes|    Electronic check|          104.8|      3046.05|        Yes|          1|         84|5003|               Moved|PAJIVH8196|     Q3|                 3|        Churned|         Other|High Spend, Short...|        1|25-36 Months|            Over 90|    family member of|        2235-DWLJU|\n",
            "|0280-XJGEX|    1|United States|California|    Los Angeles|   90015|34.039224, -118.2...|34.039224|-118.266293|  Male|            No|     No|       Yes|         49.0|          Yes|             Yes|     Fiber optic|                 No|                Yes|                Yes|                 No|                Yes|                Yes|Month-to-month|              Yes|Bank transfer (au...|          103.7|       5036.3|        Yes|          1|         89|5340|Competitor had be...|RXFOMV1173|     Q3|                 1|        Churned|    Competitor|High Spend, Long ...|        1|49-60 Months|            Over 90|merchant collabor...|        3658-QQJYD|\n",
            "|4190-MFLUW|    1|United States|California|    Los Angeles|   90020|34.066367, -118.3...|34.066367|-118.309868|Female|            No|    Yes|        No|         10.0|          Yes|              No|             DSL|                 No|                 No|                Yes|                Yes|                 No|                 No|Month-to-month|               No|Credit card (auto...|           55.2|       528.35|        Yes|          1|         78|5925|Competitor offere...|JFOFHU2246|     Q3|                 1|        Churned|    Competitor|Low Spend, Short ...|        1| 0-12 Months|              31-60|merchant collabor...|        9095-HFAFX|\n",
            "|8779-QRDMV|    1|United States|California|    Los Angeles|   90022|34.02381, -118.15...| 34.02381|-118.156582|  Male|           Yes|     No|        No|          1.0|           No|No phone service|             DSL|                 No|                 No|                Yes|                 No|                 No|                Yes|Month-to-month|              Yes|    Electronic check|          39.65|        39.65|        Yes|          1|        100|5433|Competitor offere...|SWSORB1252|     Q3|                 3|        Churned|    Competitor|Low Spend, Short ...|        1| 0-12 Months|              31-60|    family member of|        2956-GGUCQ|\n",
            "|1066-JKSGK|    1|United States|California|    Los Angeles|   90024|34.066303, -118.4...|34.066303|-118.435479|  Male|            No|     No|        No|          1.0|          Yes|              No|              No|No internet service|No internet service|No internet service|No internet service|No internet service|No internet service|Month-to-month|               No|        Mailed check|          20.15|        20.15|        Yes|          1|         92|4832|Competitor made b...|LXIWPV2763|     Q3|                 1|        Churned|    Competitor|Low Spend, Short ...|        1| 0-12 Months|               0-30|           friend of|        0247-SLUJI|\n",
            "|6467-CHFZW|    1|United States|California|    Los Angeles|   90028|34.099869, -118.3...|34.099869|-118.326843|  Male|            No|    Yes|       Yes|         47.0|          Yes|             Yes|     Fiber optic|                 No|                Yes|                 No|                 No|                Yes|                Yes|Month-to-month|              Yes|    Electronic check|          99.35|      4749.15|        Yes|          1|         77|5789|Competitor had be...|SPVBUS9328|     Q3|                 1|        Churned|    Competitor|High Spend, Long ...|        1|37-48 Months|            Over 90|merchant collabor...|        8218-FFJDS|\n",
            "|8665-UTDHZ|    1|United States|California|    Los Angeles|   90029|34.089953, -118.2...|34.089953|-118.294824|  Male|            No|    Yes|        No|          1.0|           No|No phone service|             DSL|                 No|                Yes|                 No|                 No|                 No|                 No|Month-to-month|               No|    Electronic check|           30.2|         30.2|        Yes|          1|         97|2915|Competitor had be...|ZUPEKW1663|     Q3|                 1|        Churned|    Competitor|Low Spend, Short ...|        1| 0-12 Months|              31-60|merchant collabor...|        0363-QJVFX|\n",
            "|8773-HHUOZ|    1|United States|California|    Los Angeles|   90032|34.078821, -118.1...|34.078821|-118.177576|Female|            No|     No|        No|         17.0|          Yes|              No|             DSL|                 No|                 No|                 No|                 No|                Yes|                Yes|Month-to-month|              Yes|        Mailed check|           64.7|       1093.1|        Yes|          1|         74|3022|Competitor offere...|NJDJEF5327|     Q3|                 1|        Churned|    Competitor|Low Spend, Short ...|        1|13-24 Months|              61-90|    family member of|        7717-BICXI|\n",
            "|6047-YHPVI|    1|United States|California|    Los Angeles|   90039|34.110845, -118.2...|34.110845|-118.259595|  Male|            No|     No|       Yes|          5.0|          Yes|              No|     Fiber optic|                 No|                 No|                 No|                 No|                 No|                 No|Month-to-month|              Yes|    Electronic check|           69.7|        316.9|        Yes|          1|         66|2454|Competitor offere...|QKTHZB9414|     Q3|                 1|        Churned|    Competitor|Low Spend, Short ...|        1| 0-12 Months|              61-90|   promotional offer|        1559-DTODC|\n",
            "|5380-WJKOV|    1|United States|California|    Los Angeles|   90041|34.137412, -118.2...|34.137412|-118.207607|  Male|            No|     No|       Yes|         34.0|          Yes|             Yes|     Fiber optic|                 No|                Yes|                Yes|                 No|                Yes|                Yes|Month-to-month|              Yes|    Electronic check|         106.35|      3549.25|        Yes|          1|         65|2941|Competitor offere...|OJJREZ1257|     Q3|                 2|        Churned|    Competitor|High Spend, Long ...|        1|25-36 Months|            Over 90|         referred by|        5204-HMGYF|\n",
            "|8168-UQWWF|    1|United States|California|    Los Angeles|   90042|34.11572, -118.19...| 34.11572|-118.192754|Female|            No|     No|       Yes|         11.0|          Yes|             Yes|     Fiber optic|                 No|                 No|                Yes|                 No|                Yes|                Yes|Month-to-month|              Yes|Bank transfer (au...|          97.85|       1105.4|        Yes|          1|         70|5674|Competitor offere...|WOJGFP6376|     Q3|                 3|        Churned|    Competitor|High Spend, Short...|        1| 0-12 Months|            Over 90|merchant collabor...|        4625-EWPTF|\n",
            "|7760-OYPDY|    1|United States|California|    Los Angeles|   90056|33.987945, -118.3...|33.987945|-118.370442|Female|            No|     No|       Yes|          2.0|          Yes|              No|     Fiber optic|                 No|                 No|                 No|                 No|                Yes|                 No|Month-to-month|              Yes|    Electronic check|          80.65|       144.15|        Yes|          1|         90|5586|Competitor offere...|IFPGRC4891|     Q3|                 1|        Churned|    Competitor|High Spend, Short...|        1| 0-12 Months|              61-90|merchant collabor...|        8883-ANODQ|\n",
            "|9420-LOJKX|    1|United States|California|    Los Angeles|   90061|33.92128, -118.27...| 33.92128|-118.274186|Female|            No|     No|       Yes|         15.0|          Yes|              No|     Fiber optic|                Yes|                Yes|                 No|                 No|                Yes|                Yes|Month-to-month|              Yes|Credit card (auto...|           99.1|       1426.4|        Yes|          1|         82|2966|Competitor offere...|HQOFFH8655|     Q3|                 1|        Churned|    Competitor|High Spend, Short...|        1|13-24 Months|            Over 90|           friend of|        5959-BELXA|\n",
            "|7495-OOKFY|    1|United States|California|    Los Angeles|   90063|34.044271, -118.1...|34.044271|-118.185237|Female|           Yes|    Yes|       Yes|          8.0|          Yes|             Yes|     Fiber optic|                 No|                Yes|                 No|                 No|                 No|                 No|Month-to-month|              Yes|Credit card (auto...|          80.65|        633.3|        Yes|          1|         69|5302|Competitor made b...|SNAEQA8572|     Q3|                 3|        Churned|    Competitor|High Spend, Short...|        1| 0-12 Months|              61-90|    family member of|        3207-OYBWH|\n",
            "|1658-BYGOY|    1|United States|California|    Los Angeles|   90065|34.108833, -118.2...|34.108833|-118.229715|  Male|           Yes|     No|       Yes|         18.0|          Yes|             Yes|     Fiber optic|                 No|                 No|                 No|                 No|                Yes|                Yes|Month-to-month|              Yes|    Electronic check|          95.45|      1752.55|        Yes|          1|         81|3179|Competitor made b...|LMBQNN3714|     Q3|                 2|        Churned|    Competitor|High Spend, Short...|        1|13-24 Months|            Over 90|         referred by|        1335-MXCSE|\n",
            "|5698-BQJOH|    1|United States|California|  Beverly Hills|   90211|34.063947, -118.3...|34.063947|-118.383001|Female|            No|     No|       Yes|          9.0|          Yes|             Yes|     Fiber optic|                 No|                 No|                 No|                 No|                Yes|                Yes|Month-to-month|               No|    Electronic check|           94.4|       857.25|        Yes|          1|         96|5571|      Price too high|FUWKWM7892|     Q3|                 3|        Churned|         Price|High Spend, Short...|        1| 0-12 Months|            Over 90|         referred by|        3644-QXEHN|\n",
            "|5919-TMRGD|    1|United States|California|Huntington Park|   90255|33.97803, -118.21...| 33.97803|-118.217141|Female|            No|     No|       Yes|          1.0|          Yes|              No|     Fiber optic|                 No|                 No|                 No|                 No|                Yes|                 No|Month-to-month|              Yes|    Electronic check|          79.35|        79.35|        Yes|          1|         87|2483|Product dissatisf...|MDOAVU2152|     Q3|                 1|        Churned|    Competitor|High Spend, Short...|        1| 0-12 Months|              61-90|   promotional offer|        6284-AHOOQ|\n",
            "+----------+-----+-------------+----------+---------------+--------+--------------------+---------+-----------+------+--------------+-------+----------+-------------+-------------+----------------+----------------+-------------------+-------------------+-------------------+-------------------+-------------------+-------------------+--------------+-----------------+--------------------+---------------+-------------+-----------+-----------+-----------+----+--------------------+----------+-------+------------------+---------------+--------------+--------------------+---------+------------+-------------------+--------------------+------------------+\n",
            "only showing top 20 rows\n",
            "\n"
          ]
        }
      ]
    },
    {
      "cell_type": "markdown",
      "source": [
        "Replacing redundant values in 'Online Security', 'Online Backup', 'Device Protection', 'Tech Support', 'Streaming TV', 'Streaming Movies' columns for consistency across features."
      ],
      "metadata": {
        "id": "bJiPVARYpTHB"
      }
    },
    {
      "cell_type": "code",
      "source": [
        "from pyspark.sql.functions import col, sum, when\n",
        "columns_to_check = ['Online Security', 'Online Backup', 'Device Protection', 'Tech Support', 'Streaming TV', 'Streaming Movies']  # Replace with your actual column names\n",
        "\n",
        "# Replace 'No internet service' with 'No' in the specified columns\n",
        "for column in columns_to_check:\n",
        "    final_df = final_df.withColumn(column, when(col(column) == 'No internet service', 'No').otherwise(col(column)))\n",
        "\n",
        "# Show the result\n",
        "final_df.show()"
      ],
      "metadata": {
        "id": "BtFxglQCCqTd",
        "colab": {
          "base_uri": "https://localhost:8080/"
        },
        "outputId": "8e6e10d0-c899-4246-9a73-07c95de4f536"
      },
      "execution_count": null,
      "outputs": [
        {
          "output_type": "stream",
          "name": "stdout",
          "text": [
            "+----------+-----+-------------+----------+---------------+--------+--------------------+---------+-----------+------+--------------+-------+----------+-------------+-------------+----------------+----------------+---------------+-------------+-----------------+------------+------------+----------------+--------------+-----------------+--------------------+---------------+-------------+-----------+-----------+-----------+----+--------------------+----------+-------+------------------+---------------+--------------+--------------------+---------+------------+-------------------+--------------------+------------------+\n",
            "|CustomerID|Count|      Country|     State|           City|Zip Code|            Lat Long| Latitude|  Longitude|Gender|Senior Citizen|Partner|Dependents|Tenure Months|Phone Service|  Multiple Lines|Internet Service|Online Security|Online Backup|Device Protection|Tech Support|Streaming TV|Streaming Movies|      Contract|Paperless Billing|      Payment Method|Monthly Charges|Total Charges|Churn Label|Churn Value|Churn Score|CLTV|        Churn Reason| Status ID|Quarter|Satisfaction Score|Customer Status|Churn Category|       CustomerGroup|IsChurned| TenureGroup|MonthlyChargesRange|    InvitationSource|ReferralCustomerID|\n",
            "+----------+-----+-------------+----------+---------------+--------+--------------------+---------+-----------+------+--------------+-------+----------+-------------+-------------+----------------+----------------+---------------+-------------+-----------------+------------+------------+----------------+--------------+-----------------+--------------------+---------------+-------------+-----------+-----------+-----------+----+--------------------+----------+-------+------------------+---------------+--------------+--------------------+---------+------------+-------------------+--------------------+------------------+\n",
            "|3668-QPYBK|    1|United States|California|    Los Angeles|   90003|33.964131, -118.2...|33.964131|-118.272783|  Male|            No|     No|        No|          2.0|          Yes|              No|             DSL|            Yes|          Yes|               No|          No|          No|              No|Month-to-month|              Yes|        Mailed check|          53.85|       108.15|        Yes|          1|         86|3239|Competitor made b...|SUDNGT6444|     Q3|                 1|        Churned|    Competitor|Low Spend, Short ...|        1| 0-12 Months|              31-60|         referred by|        6260-XLACS|\n",
            "|9237-HQITU|    1|United States|California|    Los Angeles|   90005|34.059281, -118.3...|34.059281| -118.30742|Female|            No|     No|       Yes|          2.0|          Yes|              No|     Fiber optic|             No|           No|               No|          No|          No|              No|Month-to-month|              Yes|    Electronic check|           70.7|       151.65|        Yes|          1|         67|2701|               Moved|KZSZDV8891|     Q3|                 2|        Churned|         Other|High Spend, Short...|        1| 0-12 Months|              61-90|           friend of|        7295-JOMMD|\n",
            "|9305-CDSKC|    1|United States|California|    Los Angeles|   90006|34.048013, -118.2...|34.048013|-118.293953|Female|            No|     No|       Yes|          8.0|          Yes|             Yes|     Fiber optic|             No|           No|              Yes|          No|         Yes|             Yes|Month-to-month|              Yes|    Electronic check|          99.65|        820.5|        Yes|          1|         86|5372|               Moved|EPTIUU1269|     Q3|                 3|        Churned|         Other|High Spend, Short...|        1| 0-12 Months|            Over 90|    family member of|        5499-ECUTN|\n",
            "|7892-POOKP|    1|United States|California|    Los Angeles|   90010|34.062125, -118.3...|34.062125|-118.315709|Female|            No|    Yes|       Yes|         28.0|          Yes|             Yes|     Fiber optic|             No|           No|              Yes|         Yes|         Yes|             Yes|Month-to-month|              Yes|    Electronic check|          104.8|      3046.05|        Yes|          1|         84|5003|               Moved|PAJIVH8196|     Q3|                 3|        Churned|         Other|High Spend, Short...|        1|25-36 Months|            Over 90|    family member of|        2235-DWLJU|\n",
            "|0280-XJGEX|    1|United States|California|    Los Angeles|   90015|34.039224, -118.2...|34.039224|-118.266293|  Male|            No|     No|       Yes|         49.0|          Yes|             Yes|     Fiber optic|             No|          Yes|              Yes|          No|         Yes|             Yes|Month-to-month|              Yes|Bank transfer (au...|          103.7|       5036.3|        Yes|          1|         89|5340|Competitor had be...|RXFOMV1173|     Q3|                 1|        Churned|    Competitor|High Spend, Long ...|        1|49-60 Months|            Over 90|merchant collabor...|        3658-QQJYD|\n",
            "|4190-MFLUW|    1|United States|California|    Los Angeles|   90020|34.066367, -118.3...|34.066367|-118.309868|Female|            No|    Yes|        No|         10.0|          Yes|              No|             DSL|             No|           No|              Yes|         Yes|          No|              No|Month-to-month|               No|Credit card (auto...|           55.2|       528.35|        Yes|          1|         78|5925|Competitor offere...|JFOFHU2246|     Q3|                 1|        Churned|    Competitor|Low Spend, Short ...|        1| 0-12 Months|              31-60|merchant collabor...|        9095-HFAFX|\n",
            "|8779-QRDMV|    1|United States|California|    Los Angeles|   90022|34.02381, -118.15...| 34.02381|-118.156582|  Male|           Yes|     No|        No|          1.0|           No|No phone service|             DSL|             No|           No|              Yes|          No|          No|             Yes|Month-to-month|              Yes|    Electronic check|          39.65|        39.65|        Yes|          1|        100|5433|Competitor offere...|SWSORB1252|     Q3|                 3|        Churned|    Competitor|Low Spend, Short ...|        1| 0-12 Months|              31-60|    family member of|        2956-GGUCQ|\n",
            "|1066-JKSGK|    1|United States|California|    Los Angeles|   90024|34.066303, -118.4...|34.066303|-118.435479|  Male|            No|     No|        No|          1.0|          Yes|              No|              No|             No|           No|               No|          No|          No|              No|Month-to-month|               No|        Mailed check|          20.15|        20.15|        Yes|          1|         92|4832|Competitor made b...|LXIWPV2763|     Q3|                 1|        Churned|    Competitor|Low Spend, Short ...|        1| 0-12 Months|               0-30|           friend of|        0247-SLUJI|\n",
            "|6467-CHFZW|    1|United States|California|    Los Angeles|   90028|34.099869, -118.3...|34.099869|-118.326843|  Male|            No|    Yes|       Yes|         47.0|          Yes|             Yes|     Fiber optic|             No|          Yes|               No|          No|         Yes|             Yes|Month-to-month|              Yes|    Electronic check|          99.35|      4749.15|        Yes|          1|         77|5789|Competitor had be...|SPVBUS9328|     Q3|                 1|        Churned|    Competitor|High Spend, Long ...|        1|37-48 Months|            Over 90|merchant collabor...|        8218-FFJDS|\n",
            "|8665-UTDHZ|    1|United States|California|    Los Angeles|   90029|34.089953, -118.2...|34.089953|-118.294824|  Male|            No|    Yes|        No|          1.0|           No|No phone service|             DSL|             No|          Yes|               No|          No|          No|              No|Month-to-month|               No|    Electronic check|           30.2|         30.2|        Yes|          1|         97|2915|Competitor had be...|ZUPEKW1663|     Q3|                 1|        Churned|    Competitor|Low Spend, Short ...|        1| 0-12 Months|              31-60|merchant collabor...|        0363-QJVFX|\n",
            "|8773-HHUOZ|    1|United States|California|    Los Angeles|   90032|34.078821, -118.1...|34.078821|-118.177576|Female|            No|     No|        No|         17.0|          Yes|              No|             DSL|             No|           No|               No|          No|         Yes|             Yes|Month-to-month|              Yes|        Mailed check|           64.7|       1093.1|        Yes|          1|         74|3022|Competitor offere...|NJDJEF5327|     Q3|                 1|        Churned|    Competitor|Low Spend, Short ...|        1|13-24 Months|              61-90|    family member of|        7717-BICXI|\n",
            "|6047-YHPVI|    1|United States|California|    Los Angeles|   90039|34.110845, -118.2...|34.110845|-118.259595|  Male|            No|     No|       Yes|          5.0|          Yes|              No|     Fiber optic|             No|           No|               No|          No|          No|              No|Month-to-month|              Yes|    Electronic check|           69.7|        316.9|        Yes|          1|         66|2454|Competitor offere...|QKTHZB9414|     Q3|                 1|        Churned|    Competitor|Low Spend, Short ...|        1| 0-12 Months|              61-90|   promotional offer|        1559-DTODC|\n",
            "|5380-WJKOV|    1|United States|California|    Los Angeles|   90041|34.137412, -118.2...|34.137412|-118.207607|  Male|            No|     No|       Yes|         34.0|          Yes|             Yes|     Fiber optic|             No|          Yes|              Yes|          No|         Yes|             Yes|Month-to-month|              Yes|    Electronic check|         106.35|      3549.25|        Yes|          1|         65|2941|Competitor offere...|OJJREZ1257|     Q3|                 2|        Churned|    Competitor|High Spend, Long ...|        1|25-36 Months|            Over 90|         referred by|        5204-HMGYF|\n",
            "|8168-UQWWF|    1|United States|California|    Los Angeles|   90042|34.11572, -118.19...| 34.11572|-118.192754|Female|            No|     No|       Yes|         11.0|          Yes|             Yes|     Fiber optic|             No|           No|              Yes|          No|         Yes|             Yes|Month-to-month|              Yes|Bank transfer (au...|          97.85|       1105.4|        Yes|          1|         70|5674|Competitor offere...|WOJGFP6376|     Q3|                 3|        Churned|    Competitor|High Spend, Short...|        1| 0-12 Months|            Over 90|merchant collabor...|        4625-EWPTF|\n",
            "|7760-OYPDY|    1|United States|California|    Los Angeles|   90056|33.987945, -118.3...|33.987945|-118.370442|Female|            No|     No|       Yes|          2.0|          Yes|              No|     Fiber optic|             No|           No|               No|          No|         Yes|              No|Month-to-month|              Yes|    Electronic check|          80.65|       144.15|        Yes|          1|         90|5586|Competitor offere...|IFPGRC4891|     Q3|                 1|        Churned|    Competitor|High Spend, Short...|        1| 0-12 Months|              61-90|merchant collabor...|        8883-ANODQ|\n",
            "|9420-LOJKX|    1|United States|California|    Los Angeles|   90061|33.92128, -118.27...| 33.92128|-118.274186|Female|            No|     No|       Yes|         15.0|          Yes|              No|     Fiber optic|            Yes|          Yes|               No|          No|         Yes|             Yes|Month-to-month|              Yes|Credit card (auto...|           99.1|       1426.4|        Yes|          1|         82|2966|Competitor offere...|HQOFFH8655|     Q3|                 1|        Churned|    Competitor|High Spend, Short...|        1|13-24 Months|            Over 90|           friend of|        5959-BELXA|\n",
            "|7495-OOKFY|    1|United States|California|    Los Angeles|   90063|34.044271, -118.1...|34.044271|-118.185237|Female|           Yes|    Yes|       Yes|          8.0|          Yes|             Yes|     Fiber optic|             No|          Yes|               No|          No|          No|              No|Month-to-month|              Yes|Credit card (auto...|          80.65|        633.3|        Yes|          1|         69|5302|Competitor made b...|SNAEQA8572|     Q3|                 3|        Churned|    Competitor|High Spend, Short...|        1| 0-12 Months|              61-90|    family member of|        3207-OYBWH|\n",
            "|1658-BYGOY|    1|United States|California|    Los Angeles|   90065|34.108833, -118.2...|34.108833|-118.229715|  Male|           Yes|     No|       Yes|         18.0|          Yes|             Yes|     Fiber optic|             No|           No|               No|          No|         Yes|             Yes|Month-to-month|              Yes|    Electronic check|          95.45|      1752.55|        Yes|          1|         81|3179|Competitor made b...|LMBQNN3714|     Q3|                 2|        Churned|    Competitor|High Spend, Short...|        1|13-24 Months|            Over 90|         referred by|        1335-MXCSE|\n",
            "|5698-BQJOH|    1|United States|California|  Beverly Hills|   90211|34.063947, -118.3...|34.063947|-118.383001|Female|            No|     No|       Yes|          9.0|          Yes|             Yes|     Fiber optic|             No|           No|               No|          No|         Yes|             Yes|Month-to-month|               No|    Electronic check|           94.4|       857.25|        Yes|          1|         96|5571|      Price too high|FUWKWM7892|     Q3|                 3|        Churned|         Price|High Spend, Short...|        1| 0-12 Months|            Over 90|         referred by|        3644-QXEHN|\n",
            "|5919-TMRGD|    1|United States|California|Huntington Park|   90255|33.97803, -118.21...| 33.97803|-118.217141|Female|            No|     No|       Yes|          1.0|          Yes|              No|     Fiber optic|             No|           No|               No|          No|         Yes|              No|Month-to-month|              Yes|    Electronic check|          79.35|        79.35|        Yes|          1|         87|2483|Product dissatisf...|MDOAVU2152|     Q3|                 1|        Churned|    Competitor|High Spend, Short...|        1| 0-12 Months|              61-90|   promotional offer|        6284-AHOOQ|\n",
            "+----------+-----+-------------+----------+---------------+--------+--------------------+---------+-----------+------+--------------+-------+----------+-------------+-------------+----------------+----------------+---------------+-------------+-----------------+------------+------------+----------------+--------------+-----------------+--------------------+---------------+-------------+-----------+-----------+-----------+----+--------------------+----------+-------+------------------+---------------+--------------+--------------------+---------+------------+-------------------+--------------------+------------------+\n",
            "only showing top 20 rows\n",
            "\n"
          ]
        }
      ]
    },
    {
      "cell_type": "markdown",
      "source": [
        "Applying standard scaling to selected numeric features for model training"
      ],
      "metadata": {
        "id": "aWW6y1zDpyvD"
      }
    },
    {
      "cell_type": "code",
      "source": [
        "#Standard Scaling with Pipeline\n",
        "from pyspark.ml.feature import VectorAssembler,StandardScaler\n",
        "from pyspark.sql.types import FloatType\n",
        "from pyspark.ml import Pipeline\n",
        "assembler = VectorAssembler(inputCols=[\"Tenure Months\",\"Monthly Charges\",\"Total Charges\",\"Satisfaction Score\"], outputCol=\"tMTS\")\n",
        "ss = StandardScaler(inputCol=\"tMTS\", outputCol=\"tMTS_std_scaled\")\n",
        "pipeline = Pipeline(stages=[assembler, ss])\n",
        "final_df=pipeline.fit(final_df).transform(final_df)\n",
        "final_df.select('tMTS', 'tMTS_std_scaled').show(truncate=False)"
      ],
      "metadata": {
        "id": "82MjmVOtDFHi",
        "colab": {
          "base_uri": "https://localhost:8080/"
        },
        "outputId": "437b61b5-6267-4226-badf-79e1fb32529c"
      },
      "execution_count": null,
      "outputs": [
        {
          "output_type": "stream",
          "name": "stdout",
          "text": [
            "+-----------------------------------------------+---------------------------------------------------------------------------------+\n",
            "|tMTS                                           |tMTS_std_scaled                                                                  |\n",
            "+-----------------------------------------------+---------------------------------------------------------------------------------+\n",
            "|[2.0,53.849998474121094,108.1500015258789,1.0] |[0.08143494555602797,1.7896282530945118,0.04774833958400724,0.832184140751779]   |\n",
            "|[2.0,70.69999694824219,151.64999389648438,2.0] |[0.08143494555602797,2.3496140318940846,0.06695363203253653,1.664368281503558]   |\n",
            "|[8.0,99.6500015258789,820.5,3.0]               |[0.3257397822241119,3.311726336210166,0.36225161420181085,2.4965524222553372]    |\n",
            "|[28.0,104.80000305175781,3046.050048828125,3.0]|[1.1400892377843916,3.4828793259102864,1.3448343048476454,2.4965524222553372]    |\n",
            "|[49.0,103.69999694824219,5036.2998046875,1.0]  |[1.9951561661226853,3.4463221846436247,2.223531668314822,0.832184140751779]      |\n",
            "|[10.0,55.20000076293945,528.3499755859375,1.0] |[0.40717472778013986,1.8344936626817128,0.23326707071236222,0.832184140751779]   |\n",
            "|[1.0,39.650001525878906,39.650001525878906,3.0]|[0.040717472778013984,1.3177115130291848,0.017505517435531866,2.4965524222553372]|\n",
            "|[1.0,20.149999618530273,20.149999618530273,1.0]|[0.040717472778013984,0.6696566321073415,0.00889624605481836,0.832184140751779]  |\n",
            "|[47.0,99.3499984741211,4749.14990234375,1.0]   |[1.9137212205666572,3.3017561606734227,2.096754683985857,0.832184140751779]      |\n",
            "|[1.0,30.200000762939453,30.200000762939453,1.0]|[0.040717472778013984,1.0036541530229703,0.01333333214536348,0.832184140751779]  |\n",
            "|[17.0,64.69999694824219,1093.0999755859375,1.0]|[0.6921970372262377,2.1502125495759867,0.48260479054231065,0.832184140751779]    |\n",
            "|[5.0,69.69999694824219,316.8999938964844,1.0]  |[0.20358736389006993,2.3163804515077353,0.13991168108415047,0.832184140751779]   |\n",
            "|[34.0,106.3499984741211,3549.25,2.0]           |[1.3843940744524754,3.5343912233778707,1.5669976132916235,1.664368281503558]     |\n",
            "|[11.0,97.8499984741211,1105.4000244140625,3.0] |[0.4478922005581538,3.251905790093898,0.48803527505510697,2.4965524222553372]    |\n",
            "|[2.0,80.6500015258789,144.14999389648438,1.0]  |[0.08143494555602797,2.680288308869522,0.06364237413306843,0.832184140751779]    |\n",
            "|[15.0,99.0999984741211,1426.4000244140625,1.0] |[0.6107620916702098,3.2934477655768353,0.629757113152342,0.832184140751779]      |\n",
            "|[8.0,80.6500015258789,633.2999877929688,3.0]   |[0.3257397822241119,2.680288308869522,0.2796026116416698,2.4965524222553372]     |\n",
            "|[18.0,95.44999694824219,1752.550048828125,2.0] |[0.7329145100042517,3.1721451464562396,0.7737526924527126,1.664368281503558]     |\n",
            "|[9.0,94.4000015258789,857.25,3.0]              |[0.36645725500212584,3.1372500391818305,0.3784767779092046,2.4965524222553372]   |\n",
            "|[1.0,79.3499984741211,79.3499984741211,1.0]    |[0.040717472778013984,2.637084552946429,0.03503310790269542,0.832184140751779]   |\n",
            "+-----------------------------------------------+---------------------------------------------------------------------------------+\n",
            "only showing top 20 rows\n",
            "\n"
          ]
        }
      ]
    },
    {
      "cell_type": "markdown",
      "source": [
        "Applying one hot encoding to categorical columns and creating a vector to pass to the predictive model"
      ],
      "metadata": {
        "id": "-d0w8TeuqcAq"
      }
    },
    {
      "cell_type": "code",
      "source": [
        "#String indexing for categorical columns\n",
        "from pyspark.ml.feature import StringIndexer\n",
        "str_obj=StringIndexer(inputCols=[\"Gender\", \"Partner\", \"Dependents\", \"Phone Service\", \"Multiple Lines\", \"Internet Service\", \"Online Security\", \"Online Backup\", \"Device Protection\", \"Tech Support\", \"Streaming TV\", \"Streaming Movies\", \"Contract\", \"Paperless Billing\", \"Payment Method\", \"IsChurned\"],outputCols=[\"newGender\", \"newPartner\", \"newDependents\", \"newPhoneService\", \"newMultipleLines\", \"newInternetService\", \"newOnlineSecurity\", \"newOnlineBackup\", \"newDeviceProtection\", \"newTechSupport\", \"newStreamingTV\", \"newStreamingMovies\", \"newContract\", \"newPaperlessBilling\", \"newPaymentMethod\", \"newIsChurned\"])\n",
        "#One hot encoding\n",
        "from pyspark.ml.feature import OneHotEncoder\n",
        "onehot_obj=OneHotEncoder(inputCols=[\"newGender\", \"newPartner\", \"newDependents\", \"newPhoneService\", \"newMultipleLines\", \"newInternetService\", \"newOnlineSecurity\", \"newOnlineBackup\", \"newDeviceProtection\", \"newTechSupport\", \"newStreamingTV\", \"newStreamingMovies\", \"newContract\", \"newPaperlessBilling\", \"newPaymentMethod\"],outputCols=[\"newGender2\", \"newPartner2\", \"newDependents2\", \"newPhoneService2\", \"newMultipleLines2\", \"newInternetService2\", \"newOnlineSecurity2\", \"newOnlineBackup2\", \"newDeviceProtection2\", \"newTechSupport2\", \"newStreamingTV2\", \"newStreamingMovies2\", \"newContract2\", \"newPaperlessBilling2\", \"newPaymentMethod2\"])\n",
        "#Vector Assembler\n",
        "from pyspark.ml.feature import VectorAssembler\n",
        "vec_obj=VectorAssembler(inputCols=[\"newGender2\", \"newPartner2\", \"newDependents2\", \"newPhoneService2\", \"newMultipleLines2\", \"newInternetService2\", \"newOnlineSecurity2\", \"newOnlineBackup2\", \"newDeviceProtection2\", \"newTechSupport2\", \"newStreamingTV2\", \"newStreamingMovies2\", \"newContract2\", \"newPaperlessBilling2\", \"newPaymentMethod2\", \"tMTS_std_scaled\"],outputCol=\"all_features\")"
      ],
      "metadata": {
        "id": "xDlQmAP8DLb6"
      },
      "execution_count": null,
      "outputs": []
    },
    {
      "cell_type": "markdown",
      "source": [
        "Training a logistic regression model on the created feature vector"
      ],
      "metadata": {
        "id": "g2UnQcKkq3gD"
      }
    },
    {
      "cell_type": "code",
      "source": [
        "from pyspark.ml.classification import LogisticRegression\n",
        "log_reg = LogisticRegression(featuresCol='all_features', labelCol=\"newIsChurned\")\n",
        "from pyspark.ml import Pipeline\n",
        "lrpipeline=Pipeline(stages=[str_obj,onehot_obj,vec_obj,log_reg])\n",
        "training, test=final_df.randomSplit([0.75,0.25], seed=1000)\n",
        "lrmodel=lrpipeline.fit(training)\n",
        "lrresults=lrmodel.transform(test)\n",
        "lrresults.show(2, truncate=False)\n",
        "from pyspark.ml.evaluation import BinaryClassificationEvaluator\n",
        "lreval=BinaryClassificationEvaluator(rawPredictionCol=\"prediction\",labelCol=\"newIsChurned\")\n",
        "lreval.evaluate(lrresults)"
      ],
      "metadata": {
        "id": "cN-kz3sOD5V0",
        "colab": {
          "base_uri": "https://localhost:8080/"
        },
        "outputId": "630b8c0e-ca6b-4c5b-be21-a0c9a781b649"
      },
      "execution_count": null,
      "outputs": [
        {
          "output_type": "stream",
          "name": "stdout",
          "text": [
            "+----------+-----+-------------+----------+--------+--------+----------------------+---------+-----------+------+--------------+-------+----------+-------------+-------------+--------------+----------------+---------------+-------------+-----------------+------------+------------+----------------+--------------+-----------------+-----------------------+---------------+-------------+-----------+-----------+-----------+----+-----------------------+----------+-------+------------------+---------------+---------------+------------------------+---------+--------------+-------------------+----------------+------------------+---------------------------------------+--------------------------------------------------------+------------------------------------------------+--------------------------------------------------------------------------------------------+-------------------------------------------+--------------------------------------------------------------------------+---------+----------+-------------+---------------+----------------+------------------+-----------------+---------------+-------------------+--------------+--------------+------------------+-----------+-------------------+----------------+------------+-------------+-----------+--------------+----------------+-----------------+-------------------+------------------+----------------+--------------------+---------------+---------------+-------------------+-------------+--------------------+-----------------+-------------------------------------------------------------------------------------------------------------------------------------------------------------+--------------------------------------+---------------------------+----------+\n",
            "|CustomerID|Count|Country      |State     |City    |Zip Code|Lat Long              |Latitude |Longitude  |Gender|Senior Citizen|Partner|Dependents|Tenure Months|Phone Service|Multiple Lines|Internet Service|Online Security|Online Backup|Device Protection|Tech Support|Streaming TV|Streaming Movies|Contract      |Paperless Billing|Payment Method         |Monthly Charges|Total Charges|Churn Label|Churn Value|Churn Score|CLTV|Churn Reason           |Status ID |Quarter|Satisfaction Score|Customer Status|Churn Category |CustomerGroup           |IsChurned|TenureGroup   |MonthlyChargesRange|InvitationSource|ReferralCustomerID|tMT                                    |tMT_std_scaled                                          |tMTSC                                           |tMTSC_std_scaled                                                                            |tMTS                                       |tMTS_std_scaled                                                           |newGender|newPartner|newDependents|newPhoneService|newMultipleLines|newInternetService|newOnlineSecurity|newOnlineBackup|newDeviceProtection|newTechSupport|newStreamingTV|newStreamingMovies|newContract|newPaperlessBilling|newPaymentMethod|newIsChurned|newGender2   |newPartner2|newDependents2|newPhoneService2|newMultipleLines2|newInternetService2|newOnlineSecurity2|newOnlineBackup2|newDeviceProtection2|newTechSupport2|newStreamingTV2|newStreamingMovies2|newContract2 |newPaperlessBilling2|newPaymentMethod2|all_features                                                                                                                                                 |rawPrediction                         |probability                |prediction|\n",
            "+----------+-----+-------------+----------+--------+--------+----------------------+---------+-----------+------+--------------+-------+----------+-------------+-------------+--------------+----------------+---------------+-------------+-----------------+------------+------------+----------------+--------------+-----------------+-----------------------+---------------+-------------+-----------+-----------+-----------+----+-----------------------+----------+-------+------------------+---------------+---------------+------------------------+---------+--------------+-------------------+----------------+------------------+---------------------------------------+--------------------------------------------------------+------------------------------------------------+--------------------------------------------------------------------------------------------+-------------------------------------------+--------------------------------------------------------------------------+---------+----------+-------------+---------------+----------------+------------------+-----------------+---------------+-------------------+--------------+--------------+------------------+-----------+-------------------+----------------+------------+-------------+-----------+--------------+----------------+-----------------+-------------------+------------------+----------------+--------------------+---------------+---------------+-------------------+-------------+--------------------+-----------------+-------------------------------------------------------------------------------------------------------------------------------------------------------------+--------------------------------------+---------------------------+----------+\n",
            "|0011-IGKFF|1    |United States|California|Martinez|94553   |38.014457, -122.115432|38.014457|-122.115432|Male  |Yes           |Yes    |No        |13.0         |Yes          |No            |Fiber optic     |No             |Yes          |Yes              |No          |Yes         |Yes             |Month-to-month|Yes              |Electronic check       |98.0           |1237.85      |Yes        |1          |99         |3714|Product dissatisfaction|HDYLOW1467|Q3     |1                 |Churned        |Dissatisfaction|High Spend, Short Tenure|1        |13-24 Months  |Over 90            |family member of|0661-XEYAN        |[13.0,98.0,1237.8499755859375]         |[0.5293271461141817,3.25689087786227,0.5465120680020451]|[13.0,98.0,1237.8499755859375,1.0,99.0]         |[0.5293271461141817,3.25689087786227,0.5465120680020451,0.832184140751779,4.599275213642575]|[13.0,98.0,1237.8499755859375,1.0]         |[0.5293271461141817,3.25689087786227,0.5465120680020451,0.832184140751779]|0.0      |1.0       |0.0          |0.0            |0.0             |0.0               |0.0              |1.0            |1.0                |0.0           |1.0           |1.0               |0.0        |0.0                |0.0             |1.0         |(1,[0],[1.0])|(1,[],[])  |(1,[0],[1.0]) |(1,[0],[1.0])   |(2,[0],[1.0])    |(2,[0],[1.0])      |(1,[0],[1.0])     |(1,[],[])       |(1,[],[])           |(1,[0],[1.0])  |(1,[],[])      |(1,[],[])          |(2,[0],[1.0])|(1,[0],[1.0])       |(3,[0],[1.0])    |(24,[0,2,3,4,6,8,11,14,16,17,20,21,22,23],[1.0,1.0,1.0,1.0,1.0,1.0,1.0,1.0,1.0,1.0,0.5293271461141817,3.25689087786227,0.5465120680020451,0.832184140751779])|[-80.97477194902079,80.97477194902079]|[6.809314121831258E-36,1.0]|1.0       |\n",
            "|0014-BMAQU|1    |United States|California|Napa    |94558   |38.489789, -122.27011 |38.489789|-122.27011 |Male  |No            |Yes    |No        |63.0         |Yes          |Yes           |Fiber optic     |Yes            |No           |No               |Yes         |No          |No              |Two year      |Yes              |Credit card (automatic)|84.65          |5377.8       |No         |0          |49         |4604|NULL                   |PKLDMJ4593|Q3     |4                 |Stayed         |NULL           |High Spend, Long Tenure |0        |Over 60 Months|61-90              |family member of|7130-YXBRO        |[63.0,84.6500015258789,5377.7998046875]|[2.565200785014881,2.813222630414921,2.3743042780039367]|[63.0,84.6500015258789,5377.7998046875,4.0,49.0]|[2.565200785014881,2.813222630414921,2.3743042780039367,3.328736563007116,2.276408944126123]|[63.0,84.6500015258789,5377.7998046875,4.0]|[2.565200785014881,2.813222630414921,2.3743042780039367,3.328736563007116]|0.0      |1.0       |0.0          |0.0            |1.0             |0.0               |1.0              |0.0            |0.0                |1.0           |0.0           |0.0               |1.0        |0.0                |2.0             |0.0         |(1,[0],[1.0])|(1,[],[])  |(1,[0],[1.0]) |(1,[0],[1.0])   |(2,[1],[1.0])    |(2,[0],[1.0])      |(1,[],[])         |(1,[0],[1.0])   |(1,[0],[1.0])       |(1,[],[])      |(1,[0],[1.0])  |(1,[0],[1.0])      |(2,[1],[1.0])|(1,[0],[1.0])       |(3,[2],[1.0])    |[1.0,0.0,1.0,1.0,0.0,1.0,1.0,0.0,0.0,1.0,1.0,0.0,1.0,1.0,0.0,1.0,1.0,0.0,0.0,1.0,2.565200785014881,2.813222630414921,2.3743042780039367,3.328736563007116]   |[44.83730071662032,-44.83730071662032]|[1.0,0.0]                  |0.0       |\n",
            "+----------+-----+-------------+----------+--------+--------+----------------------+---------+-----------+------+--------------+-------+----------+-------------+-------------+--------------+----------------+---------------+-------------+-----------------+------------+------------+----------------+--------------+-----------------+-----------------------+---------------+-------------+-----------+-----------+-----------+----+-----------------------+----------+-------+------------------+---------------+---------------+------------------------+---------+--------------+-------------------+----------------+------------------+---------------------------------------+--------------------------------------------------------+------------------------------------------------+--------------------------------------------------------------------------------------------+-------------------------------------------+--------------------------------------------------------------------------+---------+----------+-------------+---------------+----------------+------------------+-----------------+---------------+-------------------+--------------+--------------+------------------+-----------+-------------------+----------------+------------+-------------+-----------+--------------+----------------+-----------------+-------------------+------------------+----------------+--------------------+---------------+---------------+-------------------+-------------+--------------------+-----------------+-------------------------------------------------------------------------------------------------------------------------------------------------------------+--------------------------------------+---------------------------+----------+\n",
            "only showing top 2 rows\n",
            "\n"
          ]
        },
        {
          "output_type": "execute_result",
          "data": {
            "text/plain": [
              "0.9338383838383838"
            ]
          },
          "metadata": {},
          "execution_count": 58
        }
      ]
    },
    {
      "cell_type": "markdown",
      "source": [
        "Calculating accuracy of the logistic regression model"
      ],
      "metadata": {
        "id": "9Citj1FkrOye"
      }
    },
    {
      "cell_type": "code",
      "source": [
        "#Verifying the Results\n",
        "lrresults=lrresults.withColumn(\"compare\",lrresults['newIsChurned']-lrresults['prediction'])\n",
        "correct=lrresults.filter(lrresults['compare']==0).count()\n",
        "incorrect=lrresults.filter(lrresults['compare']!=0).count()\n",
        "print(\"Accuracy of logistic regression model: \",correct/(correct+incorrect))"
      ],
      "metadata": {
        "id": "JprLUWe8D9Rq",
        "colab": {
          "base_uri": "https://localhost:8080/"
        },
        "outputId": "7a9b1972-6169-4f4b-8985-4edbbf4d5e01"
      },
      "execution_count": null,
      "outputs": [
        {
          "output_type": "stream",
          "name": "stdout",
          "text": [
            "Accuracy of logistic regression model:  0.955593029792018\n"
          ]
        }
      ]
    },
    {
      "cell_type": "markdown",
      "source": [
        "Training a decision tree model on the created feature vector"
      ],
      "metadata": {
        "id": "gZ3eG-HprF1c"
      }
    },
    {
      "cell_type": "code",
      "source": [
        "from pyspark.ml.classification import DecisionTreeClassifier\n",
        "tree_model=DecisionTreeClassifier(featuresCol='all_features', labelCol=\"newIsChurned\")\n",
        "treepipeline=Pipeline(stages=[str_obj,onehot_obj,vec_obj,tree_model])\n",
        "training, test=final_df.randomSplit([0.75,0.25], seed=1000)\n",
        "treemodel=treepipeline.fit(training)\n",
        "treeresults=treemodel.transform(test)\n",
        "treeresults.show(2, truncate=False)\n",
        "treeeval=BinaryClassificationEvaluator(rawPredictionCol=\"prediction\",labelCol=\"newIsChurned\")\n",
        "treeeval.evaluate(treeresults)"
      ],
      "metadata": {
        "id": "jN83PT0zD_l8",
        "colab": {
          "base_uri": "https://localhost:8080/"
        },
        "outputId": "8c26fbcf-a0f6-4b88-ee59-56220ad82899"
      },
      "execution_count": null,
      "outputs": [
        {
          "output_type": "stream",
          "name": "stdout",
          "text": [
            "+----------+-----+-------------+----------+--------+--------+----------------------+---------+-----------+------+--------------+-------+----------+-------------+-------------+--------------+----------------+---------------+-------------+-----------------+------------+------------+----------------+--------------+-----------------+-----------------------+---------------+-------------+-----------+-----------+-----------+----+-----------------------+----------+-------+------------------+---------------+---------------+------------------------+---------+--------------+-------------------+----------------+------------------+---------------------------------------+--------------------------------------------------------+------------------------------------------------+--------------------------------------------------------------------------------------------+-------------------------------------------+--------------------------------------------------------------------------+---------+----------+-------------+---------------+----------------+------------------+-----------------+---------------+-------------------+--------------+--------------+------------------+-----------+-------------------+----------------+------------+-------------+-----------+--------------+----------------+-----------------+-------------------+------------------+----------------+--------------------+---------------+---------------+-------------------+-------------+--------------------+-----------------+-------------------------------------------------------------------------------------------------------------------------------------------------------------+-------------+-----------+----------+\n",
            "|CustomerID|Count|Country      |State     |City    |Zip Code|Lat Long              |Latitude |Longitude  |Gender|Senior Citizen|Partner|Dependents|Tenure Months|Phone Service|Multiple Lines|Internet Service|Online Security|Online Backup|Device Protection|Tech Support|Streaming TV|Streaming Movies|Contract      |Paperless Billing|Payment Method         |Monthly Charges|Total Charges|Churn Label|Churn Value|Churn Score|CLTV|Churn Reason           |Status ID |Quarter|Satisfaction Score|Customer Status|Churn Category |CustomerGroup           |IsChurned|TenureGroup   |MonthlyChargesRange|InvitationSource|ReferralCustomerID|tMT                                    |tMT_std_scaled                                          |tMTSC                                           |tMTSC_std_scaled                                                                            |tMTS                                       |tMTS_std_scaled                                                           |newGender|newPartner|newDependents|newPhoneService|newMultipleLines|newInternetService|newOnlineSecurity|newOnlineBackup|newDeviceProtection|newTechSupport|newStreamingTV|newStreamingMovies|newContract|newPaperlessBilling|newPaymentMethod|newIsChurned|newGender2   |newPartner2|newDependents2|newPhoneService2|newMultipleLines2|newInternetService2|newOnlineSecurity2|newOnlineBackup2|newDeviceProtection2|newTechSupport2|newStreamingTV2|newStreamingMovies2|newContract2 |newPaperlessBilling2|newPaymentMethod2|all_features                                                                                                                                                 |rawPrediction|probability|prediction|\n",
            "+----------+-----+-------------+----------+--------+--------+----------------------+---------+-----------+------+--------------+-------+----------+-------------+-------------+--------------+----------------+---------------+-------------+-----------------+------------+------------+----------------+--------------+-----------------+-----------------------+---------------+-------------+-----------+-----------+-----------+----+-----------------------+----------+-------+------------------+---------------+---------------+------------------------+---------+--------------+-------------------+----------------+------------------+---------------------------------------+--------------------------------------------------------+------------------------------------------------+--------------------------------------------------------------------------------------------+-------------------------------------------+--------------------------------------------------------------------------+---------+----------+-------------+---------------+----------------+------------------+-----------------+---------------+-------------------+--------------+--------------+------------------+-----------+-------------------+----------------+------------+-------------+-----------+--------------+----------------+-----------------+-------------------+------------------+----------------+--------------------+---------------+---------------+-------------------+-------------+--------------------+-----------------+-------------------------------------------------------------------------------------------------------------------------------------------------------------+-------------+-----------+----------+\n",
            "|0011-IGKFF|1    |United States|California|Martinez|94553   |38.014457, -122.115432|38.014457|-122.115432|Male  |Yes           |Yes    |No        |13.0         |Yes          |No            |Fiber optic     |No             |Yes          |Yes              |No          |Yes         |Yes             |Month-to-month|Yes              |Electronic check       |98.0           |1237.85      |Yes        |1          |99         |3714|Product dissatisfaction|HDYLOW1467|Q3     |1                 |Churned        |Dissatisfaction|High Spend, Short Tenure|1        |13-24 Months  |Over 90            |family member of|0661-XEYAN        |[13.0,98.0,1237.8499755859375]         |[0.5293271461141817,3.25689087786227,0.5465120680020451]|[13.0,98.0,1237.8499755859375,1.0,99.0]         |[0.5293271461141817,3.25689087786227,0.5465120680020451,0.832184140751779,4.599275213642575]|[13.0,98.0,1237.8499755859375,1.0]         |[0.5293271461141817,3.25689087786227,0.5465120680020451,0.832184140751779]|0.0      |1.0       |0.0          |0.0            |0.0             |0.0               |0.0              |1.0            |1.0                |0.0           |1.0           |1.0               |0.0        |0.0                |0.0             |1.0         |(1,[0],[1.0])|(1,[],[])  |(1,[0],[1.0]) |(1,[0],[1.0])   |(2,[0],[1.0])    |(2,[0],[1.0])      |(1,[0],[1.0])     |(1,[],[])       |(1,[],[])           |(1,[0],[1.0])  |(1,[],[])      |(1,[],[])          |(2,[0],[1.0])|(1,[0],[1.0])       |(3,[0],[1.0])    |(24,[0,2,3,4,6,8,11,14,16,17,20,21,22,23],[1.0,1.0,1.0,1.0,1.0,1.0,1.0,1.0,1.0,1.0,0.5293271461141817,3.25689087786227,0.5465120680020451,0.832184140751779])|[0.0,1084.0] |[0.0,1.0]  |1.0       |\n",
            "|0014-BMAQU|1    |United States|California|Napa    |94558   |38.489789, -122.27011 |38.489789|-122.27011 |Male  |No            |Yes    |No        |63.0         |Yes          |Yes           |Fiber optic     |Yes            |No           |No               |Yes         |No          |No              |Two year      |Yes              |Credit card (automatic)|84.65          |5377.8       |No         |0          |49         |4604|NULL                   |PKLDMJ4593|Q3     |4                 |Stayed         |NULL           |High Spend, Long Tenure |0        |Over 60 Months|61-90              |family member of|7130-YXBRO        |[63.0,84.6500015258789,5377.7998046875]|[2.565200785014881,2.813222630414921,2.3743042780039367]|[63.0,84.6500015258789,5377.7998046875,4.0,49.0]|[2.565200785014881,2.813222630414921,2.3743042780039367,3.328736563007116,2.276408944126123]|[63.0,84.6500015258789,5377.7998046875,4.0]|[2.565200785014881,2.813222630414921,2.3743042780039367,3.328736563007116]|0.0      |1.0       |0.0          |0.0            |1.0             |0.0               |1.0              |0.0            |0.0                |1.0           |0.0           |0.0               |1.0        |0.0                |2.0             |0.0         |(1,[0],[1.0])|(1,[],[])  |(1,[0],[1.0]) |(1,[0],[1.0])   |(2,[1],[1.0])    |(2,[0],[1.0])      |(1,[],[])         |(1,[0],[1.0])   |(1,[0],[1.0])       |(1,[],[])      |(1,[0],[1.0])  |(1,[0],[1.0])      |(2,[1],[1.0])|(1,[0],[1.0])       |(3,[2],[1.0])    |[1.0,0.0,1.0,1.0,0.0,1.0,1.0,0.0,0.0,1.0,1.0,0.0,1.0,1.0,0.0,1.0,1.0,0.0,0.0,1.0,2.565200785014881,2.813222630414921,2.3743042780039367,3.328736563007116]   |[2190.0,0.0] |[1.0,0.0]  |0.0       |\n",
            "+----------+-----+-------------+----------+--------+--------+----------------------+---------+-----------+------+--------------+-------+----------+-------------+-------------+--------------+----------------+---------------+-------------+-----------------+------------+------------+----------------+--------------+-----------------+-----------------------+---------------+-------------+-----------+-----------+-----------+----+-----------------------+----------+-------+------------------+---------------+---------------+------------------------+---------+--------------+-------------------+----------------+------------------+---------------------------------------+--------------------------------------------------------+------------------------------------------------+--------------------------------------------------------------------------------------------+-------------------------------------------+--------------------------------------------------------------------------+---------+----------+-------------+---------------+----------------+------------------+-----------------+---------------+-------------------+--------------+--------------+------------------+-----------+-------------------+----------------+------------+-------------+-----------+--------------+----------------+-----------------+-------------------+------------------+----------------+--------------------+---------------+---------------+-------------------+-------------+--------------------+-----------------+-------------------------------------------------------------------------------------------------------------------------------------------------------------+-------------+-----------+----------+\n",
            "only showing top 2 rows\n",
            "\n"
          ]
        },
        {
          "output_type": "execute_result",
          "data": {
            "text/plain": [
              "0.915839770251535"
            ]
          },
          "metadata": {},
          "execution_count": 60
        }
      ]
    },
    {
      "cell_type": "markdown",
      "source": [
        "Calculating accuracy of the decision tree model"
      ],
      "metadata": {
        "id": "t9D6nv-8reH0"
      }
    },
    {
      "cell_type": "code",
      "source": [
        "#Verifying the Results\n",
        "treeresults=treeresults.withColumn(\"compare\",treeresults['newIsChurned']-treeresults['prediction'])\n",
        "correct=treeresults.filter(treeresults['compare']==0).count()\n",
        "incorrect=treeresults.filter(treeresults['compare']!=0).count()\n",
        "print(\"Accuracy of decision tree model: \",correct/(correct+incorrect))"
      ],
      "metadata": {
        "id": "7OBWvPY0EBiG",
        "colab": {
          "base_uri": "https://localhost:8080/"
        },
        "outputId": "1976e0b3-866b-49d9-db08-ff011b85142a"
      },
      "execution_count": null,
      "outputs": [
        {
          "output_type": "stream",
          "name": "stdout",
          "text": [
            "Accuracy of decision tree model:  0.9499718943226532\n"
          ]
        }
      ]
    },
    {
      "cell_type": "markdown",
      "source": [
        "Training a Random Forest model on the created feature vector"
      ],
      "metadata": {
        "id": "EVCrp1zWrgHs"
      }
    },
    {
      "cell_type": "code",
      "source": [
        "from pyspark.ml.classification import RandomForestClassifier\n",
        "rand_forest=RandomForestClassifier(featuresCol='all_features', labelCol=\"newIsChurned\")\n",
        "rf_pipeline=Pipeline(stages=[str_obj,onehot_obj,vec_obj,rand_forest])\n",
        "training, test=final_df.randomSplit([0.75,0.25], seed=1000)\n",
        "rf_model=rf_pipeline.fit(training)\n",
        "rf_results=rf_model.transform(test)\n",
        "rf_results.show(2, truncate=False)\n",
        "rf_eval=BinaryClassificationEvaluator(rawPredictionCol=\"rawPrediction\",labelCol=\"newIsChurned\")\n",
        "rf_eval.evaluate(rf_results)"
      ],
      "metadata": {
        "id": "aVVXvIsgEDxv",
        "colab": {
          "base_uri": "https://localhost:8080/"
        },
        "outputId": "d1f3322b-af19-43ca-b07a-856b221391de"
      },
      "execution_count": null,
      "outputs": [
        {
          "output_type": "stream",
          "name": "stdout",
          "text": [
            "+----------+-----+-------------+----------+--------+--------+----------------------+---------+-----------+------+--------------+-------+----------+-------------+-------------+--------------+----------------+---------------+-------------+-----------------+------------+------------+----------------+--------------+-----------------+-----------------------+---------------+-------------+-----------+-----------+-----------+----+-----------------------+----------+-------+------------------+---------------+---------------+------------------------+---------+--------------+-------------------+----------------+------------------+---------------------------------------+--------------------------------------------------------+------------------------------------------------+--------------------------------------------------------------------------------------------+-------------------------------------------+--------------------------------------------------------------------------+---------+----------+-------------+---------------+----------------+------------------+-----------------+---------------+-------------------+--------------+--------------+------------------+-----------+-------------------+----------------+------------+-------------+-----------+--------------+----------------+-----------------+-------------------+------------------+----------------+--------------------+---------------+---------------+-------------------+-------------+--------------------+-----------------+-------------------------------------------------------------------------------------------------------------------------------------------------------------+---------------------------------------+-----------------------------------------+----------+\n",
            "|CustomerID|Count|Country      |State     |City    |Zip Code|Lat Long              |Latitude |Longitude  |Gender|Senior Citizen|Partner|Dependents|Tenure Months|Phone Service|Multiple Lines|Internet Service|Online Security|Online Backup|Device Protection|Tech Support|Streaming TV|Streaming Movies|Contract      |Paperless Billing|Payment Method         |Monthly Charges|Total Charges|Churn Label|Churn Value|Churn Score|CLTV|Churn Reason           |Status ID |Quarter|Satisfaction Score|Customer Status|Churn Category |CustomerGroup           |IsChurned|TenureGroup   |MonthlyChargesRange|InvitationSource|ReferralCustomerID|tMT                                    |tMT_std_scaled                                          |tMTSC                                           |tMTSC_std_scaled                                                                            |tMTS                                       |tMTS_std_scaled                                                           |newGender|newPartner|newDependents|newPhoneService|newMultipleLines|newInternetService|newOnlineSecurity|newOnlineBackup|newDeviceProtection|newTechSupport|newStreamingTV|newStreamingMovies|newContract|newPaperlessBilling|newPaymentMethod|newIsChurned|newGender2   |newPartner2|newDependents2|newPhoneService2|newMultipleLines2|newInternetService2|newOnlineSecurity2|newOnlineBackup2|newDeviceProtection2|newTechSupport2|newStreamingTV2|newStreamingMovies2|newContract2 |newPaperlessBilling2|newPaymentMethod2|all_features                                                                                                                                                 |rawPrediction                          |probability                              |prediction|\n",
            "+----------+-----+-------------+----------+--------+--------+----------------------+---------+-----------+------+--------------+-------+----------+-------------+-------------+--------------+----------------+---------------+-------------+-----------------+------------+------------+----------------+--------------+-----------------+-----------------------+---------------+-------------+-----------+-----------+-----------+----+-----------------------+----------+-------+------------------+---------------+---------------+------------------------+---------+--------------+-------------------+----------------+------------------+---------------------------------------+--------------------------------------------------------+------------------------------------------------+--------------------------------------------------------------------------------------------+-------------------------------------------+--------------------------------------------------------------------------+---------+----------+-------------+---------------+----------------+------------------+-----------------+---------------+-------------------+--------------+--------------+------------------+-----------+-------------------+----------------+------------+-------------+-----------+--------------+----------------+-----------------+-------------------+------------------+----------------+--------------------+---------------+---------------+-------------------+-------------+--------------------+-----------------+-------------------------------------------------------------------------------------------------------------------------------------------------------------+---------------------------------------+-----------------------------------------+----------+\n",
            "|0011-IGKFF|1    |United States|California|Martinez|94553   |38.014457, -122.115432|38.014457|-122.115432|Male  |Yes           |Yes    |No        |13.0         |Yes          |No            |Fiber optic     |No             |Yes          |Yes              |No          |Yes         |Yes             |Month-to-month|Yes              |Electronic check       |98.0           |1237.85      |Yes        |1          |99         |3714|Product dissatisfaction|HDYLOW1467|Q3     |1                 |Churned        |Dissatisfaction|High Spend, Short Tenure|1        |13-24 Months  |Over 90            |family member of|0661-XEYAN        |[13.0,98.0,1237.8499755859375]         |[0.5293271461141817,3.25689087786227,0.5465120680020451]|[13.0,98.0,1237.8499755859375,1.0,99.0]         |[0.5293271461141817,3.25689087786227,0.5465120680020451,0.832184140751779,4.599275213642575]|[13.0,98.0,1237.8499755859375,1.0]         |[0.5293271461141817,3.25689087786227,0.5465120680020451,0.832184140751779]|0.0      |1.0       |0.0          |0.0            |0.0             |0.0               |0.0              |1.0            |1.0                |0.0           |1.0           |1.0               |0.0        |0.0                |0.0             |1.0         |(1,[0],[1.0])|(1,[],[])  |(1,[0],[1.0]) |(1,[0],[1.0])   |(2,[0],[1.0])    |(2,[0],[1.0])      |(1,[0],[1.0])     |(1,[],[])       |(1,[],[])           |(1,[0],[1.0])  |(1,[],[])      |(1,[],[])          |(2,[0],[1.0])|(1,[0],[1.0])       |(3,[0],[1.0])    |(24,[0,2,3,4,6,8,11,14,16,17,20,21,22,23],[1.0,1.0,1.0,1.0,1.0,1.0,1.0,1.0,1.0,1.0,0.5293271461141817,3.25689087786227,0.5465120680020451,0.832184140751779])|[1.305262754078695,18.694737245921306] |[0.06526313770393474,0.9347368622960653] |1.0       |\n",
            "|0014-BMAQU|1    |United States|California|Napa    |94558   |38.489789, -122.27011 |38.489789|-122.27011 |Male  |No            |Yes    |No        |63.0         |Yes          |Yes           |Fiber optic     |Yes            |No           |No               |Yes         |No          |No              |Two year      |Yes              |Credit card (automatic)|84.65          |5377.8       |No         |0          |49         |4604|NULL                   |PKLDMJ4593|Q3     |4                 |Stayed         |NULL           |High Spend, Long Tenure |0        |Over 60 Months|61-90              |family member of|7130-YXBRO        |[63.0,84.6500015258789,5377.7998046875]|[2.565200785014881,2.813222630414921,2.3743042780039367]|[63.0,84.6500015258789,5377.7998046875,4.0,49.0]|[2.565200785014881,2.813222630414921,2.3743042780039367,3.328736563007116,2.276408944126123]|[63.0,84.6500015258789,5377.7998046875,4.0]|[2.565200785014881,2.813222630414921,2.3743042780039367,3.328736563007116]|0.0      |1.0       |0.0          |0.0            |1.0             |0.0               |1.0              |0.0            |0.0                |1.0           |0.0           |0.0               |1.0        |0.0                |2.0             |0.0         |(1,[0],[1.0])|(1,[],[])  |(1,[0],[1.0]) |(1,[0],[1.0])   |(2,[1],[1.0])    |(2,[0],[1.0])      |(1,[],[])         |(1,[0],[1.0])   |(1,[0],[1.0])       |(1,[],[])      |(1,[0],[1.0])  |(1,[0],[1.0])      |(2,[1],[1.0])|(1,[0],[1.0])       |(3,[2],[1.0])    |[1.0,0.0,1.0,1.0,0.0,1.0,1.0,0.0,0.0,1.0,1.0,0.0,1.0,1.0,0.0,1.0,1.0,0.0,0.0,1.0,2.565200785014881,2.813222630414921,2.3743042780039367,3.328736563007116]   |[19.075371816425285,0.9246281835747143]|[0.9537685908212643,0.046231409178735715]|0.0       |\n",
            "+----------+-----+-------------+----------+--------+--------+----------------------+---------+-----------+------+--------------+-------+----------+-------------+-------------+--------------+----------------+---------------+-------------+-----------------+------------+------------+----------------+--------------+-----------------+-----------------------+---------------+-------------+-----------+-----------+-----------+----+-----------------------+----------+-------+------------------+---------------+---------------+------------------------+---------+--------------+-------------------+----------------+------------------+---------------------------------------+--------------------------------------------------------+------------------------------------------------+--------------------------------------------------------------------------------------------+-------------------------------------------+--------------------------------------------------------------------------+---------+----------+-------------+---------------+----------------+------------------+-----------------+---------------+-------------------+--------------+--------------+------------------+-----------+-------------------+----------------+------------+-------------+-----------+--------------+----------------+-----------------+-------------------+------------------+----------------+--------------------+---------------+---------------+-------------------+-------------+--------------------+-----------------+-------------------------------------------------------------------------------------------------------------------------------------------------------------+---------------------------------------+-----------------------------------------+----------+\n",
            "only showing top 2 rows\n",
            "\n"
          ]
        },
        {
          "output_type": "execute_result",
          "data": {
            "text/plain": [
              "0.9681273519508844"
            ]
          },
          "metadata": {},
          "execution_count": 62
        }
      ]
    },
    {
      "cell_type": "markdown",
      "source": [
        "Calculating accuracy of the Random Forest model"
      ],
      "metadata": {
        "id": "TB6u0VHfrrl5"
      }
    },
    {
      "cell_type": "code",
      "source": [
        "#Verifying the Results\n",
        "rf_results=rf_results.withColumn(\"compare\",rf_results['newIsChurned']-rf_results['prediction'])\n",
        "correct=rf_results.filter(rf_results['compare']==0).count()\n",
        "incorrect=rf_results.filter(rf_results['compare']!=0).count()\n",
        "print(\"Accuracy of random forest model: \",correct/(correct+incorrect))"
      ],
      "metadata": {
        "id": "5py98IDkEFyL",
        "colab": {
          "base_uri": "https://localhost:8080/"
        },
        "outputId": "c20efca7-c3ff-455e-d226-bb5012c6c2ab"
      },
      "execution_count": null,
      "outputs": [
        {
          "output_type": "stream",
          "name": "stdout",
          "text": [
            "Accuracy of random forest model:  0.9421023046655425\n"
          ]
        }
      ]
    },
    {
      "cell_type": "markdown",
      "source": [
        "**Inference:**\n",
        "\n",
        "The model with highest accuracy is logistic regression model with 95.55%."
      ],
      "metadata": {
        "id": "yb_yFtkMjCoB"
      }
    },
    {
      "cell_type": "markdown",
      "source": [
        "**We can further use this predictive model for below purposes:**\n",
        "1. Early Identification of At-Risk Customers: Predictive models can help identify customers who are likely to churn in the near future. By identifying these customers early, businesses can take proactive measures to retain them, such as offering targeted promotions, discounts, or personalized communication.\n",
        "2. Customer Segmentation: Predictive models can segment customers based on their likelihood of churn and other relevant characteristics. This segmentation allows businesses to tailor their marketing and retention efforts to different customer segments, increasing the effectiveness of their initiatives.\n",
        "3. Resource Allocation: Predictive models enable businesses to allocate resources more efficiently by focusing efforts on customers who are most likely to churn. This helps optimize marketing budgets, customer service resources, and other resources aimed at retaining customers, resulting in cost savings and improved effectiveness.\n",
        "4. Improved Customer Experience: By proactively addressing the needs of at-risk customers, businesses can enhance the overall customer experience and satisfaction. This can lead to increased loyalty, positive word-of-mouth referrals, and higher customer lifetime value.\n"
      ],
      "metadata": {
        "id": "jnARcfKCsYwC"
      }
    }
  ]
}